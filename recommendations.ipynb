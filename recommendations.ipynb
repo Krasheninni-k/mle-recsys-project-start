{
 "cells": [
  {
   "cell_type": "markdown",
   "id": "f4095ae4-7294-4b28-853e-88d235002c97",
   "metadata": {},
   "source": [
    "# Инициализация"
   ]
  },
  {
   "cell_type": "markdown",
   "id": "2f2318d2-9df8-4911-915e-15b725c44f8a",
   "metadata": {},
   "source": [
    "Загружаем библиотеки необходимые для выполнения кода ноутбука."
   ]
  },
  {
   "cell_type": "code",
   "execution_count": 1,
   "id": "662d04e7-1b0b-4e4a-9ddf-4526d7fef119",
   "metadata": {},
   "outputs": [],
   "source": [
    "# 1.0 Импортируем библиотеки\n",
    "import logging\n",
    "\n",
    "import matplotlib.pyplot as plt\n",
    "import seaborn as sns\n",
    "import pandas as pd\n",
    "import numpy as np\n",
    "import io"
   ]
  },
  {
   "cell_type": "markdown",
   "id": "bf80fbc5-b660-4fac-8fbb-a5cae77313b3",
   "metadata": {},
   "source": [
    "# === ЭТАП 1 ==="
   ]
  },
  {
   "cell_type": "markdown",
   "id": "5263a8b3-fe99-4204-8a2e-105182792c11",
   "metadata": {},
   "source": [
    "# Загрузка первичных данных"
   ]
  },
  {
   "cell_type": "markdown",
   "id": "1b54a6a5-1656-4e3c-99d1-49dc39451d33",
   "metadata": {},
   "source": [
    "Загружаем первичные данные из файлов:\n",
    "- tracks.parquet\n",
    "- catalog_names.parquet\n",
    "- interactions.parquet"
   ]
  },
  {
   "cell_type": "code",
   "execution_count": 2,
   "id": "5d4b8961-3f35-4e58-9d6b-3e2dbd2c4224",
   "metadata": {},
   "outputs": [
    {
     "name": "stdout",
     "output_type": "stream",
     "text": [
      "(1000000, 4)\n",
      "(1812471, 3)\n",
      "(222629898, 4)\n"
     ]
    }
   ],
   "source": [
    "# 1.1. Загружаем первичные данные\n",
    "tracks = pd.read_parquet(\"tracks.parquet\")\n",
    "print(tracks.shape)\n",
    "catalog_names = pd.read_parquet(\"catalog_names.parquet\")\n",
    "print(catalog_names.shape)\n",
    "interactions = pd.read_parquet(\"interactions.parquet\")\n",
    "print(interactions.shape)"
   ]
  },
  {
   "cell_type": "code",
   "execution_count": 9,
   "id": "70f7bdfe-175c-45c1-a2e9-d99f0f33be2e",
   "metadata": {},
   "outputs": [
    {
     "name": "stdout",
     "output_type": "stream",
     "text": [
      "<class 'pandas.core.frame.DataFrame'>\n",
      "RangeIndex: 1000000 entries, 0 to 999999\n",
      "Data columns (total 4 columns):\n",
      " #   Column    Non-Null Count    Dtype \n",
      "---  ------    --------------    ----- \n",
      " 0   track_id  1000000 non-null  int64 \n",
      " 1   albums    1000000 non-null  object\n",
      " 2   artists   1000000 non-null  object\n",
      " 3   genres    1000000 non-null  object\n",
      "dtypes: int64(1), object(3)\n",
      "memory usage: 30.5+ MB\n"
     ]
    }
   ],
   "source": [
    "# 1.2. Смотрим объемы и типы данных\n",
    "tracks.info()"
   ]
  },
  {
   "cell_type": "code",
   "execution_count": 10,
   "id": "cdfc3f79",
   "metadata": {},
   "outputs": [
    {
     "name": "stdout",
     "output_type": "stream",
     "text": [
      "                          albums           artists        genres\n",
      "track_id                                                        \n",
      "88957     [8201, 88361, 6045574]            [3543]  [11, 44, 75]\n",
      "46257838               [6233977]         [4383623]       [3, 75]\n",
      "48263278      [6575614, 7058305]  [678505, 611169]          [68]\n",
      "61200248               [9527234]          [915312]          [11]\n",
      "97110155              [19968185]         [4172355]     [14, 102]\n"
     ]
    }
   ],
   "source": [
    "# 1.3. Выводим примеры данных\n",
    "print(tracks[[\"track_id\", \"albums\", \"artists\", \"genres\"]].sample(5, random_state=52).sort_values(\"track_id\").set_index(\"track_id\").to_string())"
   ]
  },
  {
   "cell_type": "code",
   "execution_count": 11,
   "id": "2c801881",
   "metadata": {},
   "outputs": [
    {
     "name": "stdout",
     "output_type": "stream",
     "text": [
      "<class 'pandas.core.frame.DataFrame'>\n",
      "RangeIndex: 1812471 entries, 0 to 1812470\n",
      "Data columns (total 3 columns):\n",
      " #   Column  Dtype \n",
      "---  ------  ----- \n",
      " 0   id      int64 \n",
      " 1   type    object\n",
      " 2   name    object\n",
      "dtypes: int64(1), object(2)\n",
      "memory usage: 41.5+ MB\n"
     ]
    }
   ],
   "source": [
    "# 1.4. Смотрим объемы и типы данных\n",
    "catalog_names.info()"
   ]
  },
  {
   "cell_type": "code",
   "execution_count": 27,
   "id": "86d47969",
   "metadata": {},
   "outputs": [
    {
     "name": "stdout",
     "output_type": "stream",
     "text": [
      "            type                                                          name\n",
      "id                                                                            \n",
      "20982      album                                                 Tracy Chapman\n",
      "881376    artist                                                          Avok\n",
      "1099375    album                                           Love Me Do - Single\n",
      "2289425    track                                               The Way It Goes\n",
      "2389918   artist                                          Colt and the Old 45s\n",
      "3095939    album                                      The Wonder of the Forest\n",
      "3176856    album                                            Big Pop Essentials\n",
      "4330860   artist                                                         T.O.N\n",
      "4391393    album                                            Music for Wellness\n",
      "6546443   artist                                                      no suits\n",
      "9753186    album                                                       Gurenge\n",
      "9813882    album                                          Сборник лучших песен\n",
      "11089656   album                                                 Jusqu'au bout\n",
      "11724207   album                                                  Drip N Drill\n",
      "13389623   track  The Return from Fingal, The Drogheda Lasses, Trim the Velvet\n",
      "16243614   track                                                  Командировка\n",
      "30306897   track                                       Blend in With the Crowd\n",
      "39853536   track                                                      I Refuse\n",
      "45781455   track                                                Последняя 2014\n",
      "48885445   track                                                        Clouds\n"
     ]
    }
   ],
   "source": [
    "# 1.5. Выводим примеры данных\n",
    "print(catalog_names[[\"id\", \"type\", \"name\"]].sample(20, random_state=52).sort_values(\"id\").set_index(\"id\").to_string())"
   ]
  },
  {
   "cell_type": "code",
   "execution_count": 13,
   "id": "6991f9d3",
   "metadata": {},
   "outputs": [
    {
     "name": "stdout",
     "output_type": "stream",
     "text": [
      "<class 'pandas.core.frame.DataFrame'>\n",
      "Index: 222629898 entries, 0 to 291\n",
      "Data columns (total 4 columns):\n",
      " #   Column      Dtype         \n",
      "---  ------      -----         \n",
      " 0   user_id     int32         \n",
      " 1   track_id    int32         \n",
      " 2   track_seq   int16         \n",
      " 3   started_at  datetime64[ns]\n",
      "dtypes: datetime64[ns](1), int16(1), int32(2)\n",
      "memory usage: 5.4 GB\n"
     ]
    }
   ],
   "source": [
    "# 1.6. Смотрим объемы и типы данных\n",
    "interactions.info()"
   ]
  },
  {
   "cell_type": "code",
   "execution_count": 14,
   "id": "569fcf3f",
   "metadata": {},
   "outputs": [
    {
     "name": "stdout",
     "output_type": "stream",
     "text": [
      "                  track_seq started_at\n",
      "user_id track_id                      \n",
      "46179   29544272         37 2022-11-23\n",
      "70117   28213677       1055 2022-09-18\n",
      "72819   85090862        270 2022-08-08\n",
      "471152  55682            18 2022-09-10\n",
      "688081  220497          211 2022-02-22\n"
     ]
    }
   ],
   "source": [
    "# 1.7. Выводим примеры данных\n",
    "print(interactions[[\"user_id\", \"track_id\", \"track_seq\", \"started_at\"]].sample(5, random_state=52).sort_values(\"user_id\").set_index([\"user_id\", \"track_id\"]).to_string())"
   ]
  },
  {
   "cell_type": "markdown",
   "id": "e8f2a1f7-a05f-4f39-af90-5f4018aa6f9d",
   "metadata": {},
   "source": [
    "# Обзор данных"
   ]
  },
  {
   "cell_type": "markdown",
   "id": "46a85307-896c-4fac-9fcf-f0dffa90889e",
   "metadata": {},
   "source": [
    "Проверяем данные, есть ли с ними явные проблемы."
   ]
  },
  {
   "cell_type": "code",
   "execution_count": 15,
   "id": "c9f8f17e-9b56-4f5a-a463-f694a993effb",
   "metadata": {},
   "outputs": [
    {
     "name": "stdout",
     "output_type": "stream",
     "text": [
      "Empty DataFrame\n",
      "Columns: [track_id, albums, artists, genres]\n",
      "Index: []\n",
      "Empty DataFrame\n",
      "Columns: [id, type, name]\n",
      "Index: []\n"
     ]
    },
    {
     "name": "stdout",
     "output_type": "stream",
     "text": [
      "Empty DataFrame\n",
      "Columns: [user_id, track_id, track_seq, started_at]\n",
      "Index: []\n"
     ]
    }
   ],
   "source": [
    "# 1.8. Проверим данные на пропуски\n",
    "empty_rows = tracks[tracks.isnull().any(axis=1)]\n",
    "print(empty_rows)\n",
    "empty_rows = catalog_names[catalog_names.isnull().any(axis=1)]\n",
    "print(empty_rows)\n",
    "empty_rows = interactions[interactions.isnull().any(axis=1)]\n",
    "print(empty_rows)\n"
   ]
  },
  {
   "cell_type": "code",
   "execution_count": 16,
   "id": "efd2e2eb-3bec-4ce1-87ac-232bab8bc0d0",
   "metadata": {},
   "outputs": [
    {
     "name": "stdout",
     "output_type": "stream",
     "text": [
      "Количество дубликатов: 0\n",
      "Количество дубликатов: 35774\n"
     ]
    },
    {
     "name": "stdout",
     "output_type": "stream",
     "text": [
      "Количество дубликатов: 0\n"
     ]
    }
   ],
   "source": [
    "# 1.9. Проверим данные на наличие дубликатов\n",
    "num_duplicates = tracks['track_id'].duplicated().sum()\n",
    "print(f\"Количество дубликатов: {num_duplicates}\")\n",
    "num_duplicates = catalog_names['id'].duplicated().sum()\n",
    "print(f\"Количество дубликатов: {num_duplicates}\")\n",
    "num_duplicates = interactions[['user_id', 'track_id']].duplicated().sum()\n",
    "print(f\"Количество дубликатов: {num_duplicates}\")\n"
   ]
  },
  {
   "cell_type": "code",
   "execution_count": 34,
   "id": "efe5f9da",
   "metadata": {},
   "outputs": [
    {
     "name": "stdout",
     "output_type": "stream",
     "text": [
      "(1776697, 3)\n",
      "['album' 'artist' 'genre' 'track']\n"
     ]
    }
   ],
   "source": [
    "print(catalog_names.shape)\n",
    "print(catalog_names['type'].unique())\n"
   ]
  },
  {
   "cell_type": "code",
   "execution_count": 5,
   "id": "cd819180",
   "metadata": {},
   "outputs": [
    {
     "name": "stdout",
     "output_type": "stream",
     "text": [
      "Количество жанров в каталоге 166\n",
      "Количество артистов в каталоге 153581\n",
      "Количество альбомов в каталоге 658724\n",
      "Количество песен в каталоге 1000000\n"
     ]
    }
   ],
   "source": [
    "print('Количество жанров в каталоге', len(catalog_names[catalog_names['type'] == 'genre']))\n",
    "print('Количество артистов в каталоге', len(catalog_names[catalog_names['type'] == 'artist']))\n",
    "print('Количество альбомов в каталоге', len(catalog_names[catalog_names['type'] == 'album']))\n",
    "print('Количество песен в каталоге', len(catalog_names[catalog_names['type'] == 'track']))"
   ]
  },
  {
   "cell_type": "code",
   "execution_count": 3,
   "id": "9dd8163f",
   "metadata": {},
   "outputs": [
    {
     "name": "stdout",
     "output_type": "stream",
     "text": [
      "(1812471, 3)\n",
      "(1000000, 4)\n",
      "        id   type      name\n",
      "812305   0  genre       all\n",
      "812306   1  genre   eastern\n",
      "812307   2  genre   rusrock\n",
      "812308   3  genre    rusrap\n",
      "812309   4  genre  postrock\n",
      "Количество жанров по каталогу 166\n",
      "[0, 1, 2, 3, 4, 5, 6, 7, 8, 9, 10, 11, 12, 13, 14, 15, 16, 17, 18, 19]\n",
      "Количество жанров по трекам 173\n",
      "[1, 2, 3, 4, 5, 6, 7, 8, 9, 10, 11, 12, 13, 14, 15, 16, 17, 18, 19, 20]\n",
      "Количество жанров которых нет в каталоге 30\n",
      "{130, 131, 132, 133, 134, 135, 146, 148, 150, 151, 152, 153, 154, 155, 156, 157, 158, 159, 160, 161, 162, 163, 164, 165, 166, 167, 168, 169, 124, 126}\n"
     ]
    }
   ],
   "source": [
    "# 1.11. Проверяем, есть ли какие-то значения genres, которых нет в каталоге\n",
    "print(catalog_names.shape)\n",
    "print(tracks.shape)\n",
    "catalog_values = catalog_names[catalog_names['type'] == 'genre']\n",
    "print(catalog_values.head(5))\n",
    "catalog_genre_ids = catalog_values['id'].tolist()\n",
    "print('Количество жанров по каталогу', len(catalog_genre_ids))\n",
    "print(catalog_genre_ids[:20])\n",
    "\n",
    "# Разворачиваем списки в столбцах tracks\n",
    "# Преобразуем столбец genres в один массив, объединив все элементы\n",
    "all_genres = np.concatenate(tracks['genres'].to_numpy())\n",
    "\n",
    "# Получим уникальные идентификаторы\n",
    "unique_genres = np.unique(all_genres)\n",
    "\n",
    "unique_genres_list = unique_genres.tolist()\n",
    "\n",
    "print('Количество жанров по трекам', len(unique_genres_list))\n",
    "print(unique_genres_list[:20])\n",
    "\n",
    "# Проверяем, есть ли какие-то значения, отсутствующие в catalog_names\n",
    "missing_values = set(unique_genres_list) - set(catalog_genre_ids)\n",
    "print('Количество жанров которых нет в каталоге', len(missing_values))\n",
    "print(missing_values)\n",
    "\n"
   ]
  },
  {
   "cell_type": "code",
   "execution_count": 50,
   "id": "8ddfde27",
   "metadata": {},
   "outputs": [
    {
     "name": "stdout",
     "output_type": "stream",
     "text": [
      "        track_id      genres\n",
      "594874  41276439  [109, 126]\n",
      "594875  41276440  [109, 126]\n"
     ]
    }
   ],
   "source": [
    "# 1.12 Проверим, что в списке треков есть отсутствующий жанр (id=126)\n",
    "filtered_row = tracks[tracks['genres'].apply(lambda x: 126 in x)]\n",
    "\n",
    "print(filtered_row[['track_id', 'genres']].head(2))\n",
    "# Да, действительно есть!"
   ]
  },
  {
   "cell_type": "code",
   "execution_count": 51,
   "id": "55d59bcb",
   "metadata": {},
   "outputs": [
    {
     "name": "stdout",
     "output_type": "stream",
     "text": [
      "         id    type                              name\n",
      "49      126   album  Arma-goddamn-motherfuckin-geddon\n",
      "658748  126  artist                      The Fourmost\n"
     ]
    }
   ],
   "source": [
    "# 1.13 Проверим отсутствующий жанр с id 126\n",
    "item = catalog_names[catalog_names['id'] == 126]\n",
    "print(item)\n",
    "# По факту с айди 126 оказался альбом и артист, но не жанр."
   ]
  },
  {
   "cell_type": "code",
   "execution_count": 4,
   "id": "15e3c93b",
   "metadata": {},
   "outputs": [],
   "source": [
    "# 1.14 Удадим неизвестные жанры из треков\n",
    "def remove_missing_values(genres):\n",
    "    return [genre for genre in genres if genre not in missing_values]\n",
    "\n",
    "# Применяем функцию к колонке genres\n",
    "tracks['genres'] = tracks['genres'].apply(remove_missing_values)"
   ]
  },
  {
   "cell_type": "code",
   "execution_count": 53,
   "id": "042e6f6f",
   "metadata": {},
   "outputs": [
    {
     "name": "stdout",
     "output_type": "stream",
     "text": [
      "        track_id     albums    artists genres\n",
      "594874  41276439  [5399029]  [2674544]  [109]\n"
     ]
    }
   ],
   "source": [
    "# 1.15 Проверим, что отсутствующих жанров более нет в списке треков\n",
    "track = tracks[tracks['track_id'] == 41276439]\n",
    "\n",
    "print(track)\n",
    "# Да, действительно нет! Остался только 109-ый жанр."
   ]
  },
  {
   "cell_type": "code",
   "execution_count": null,
   "id": "cc8de8da",
   "metadata": {},
   "outputs": [
    {
     "name": "stdout",
     "output_type": "stream",
     "text": [
      "        id    type           name\n",
      "658724   4  artist   Kenny Dorham\n",
      "658725   5  artist      Max Roach\n",
      "658726   7  artist  Francis Rossi\n",
      "658727   9  artist     Status Quo\n",
      "658728  12  artist    Phil Everly\n",
      "Количество значений по каталогу 153581\n",
      "[4, 5, 7, 9, 12, 14, 15, 16, 22, 31, 33, 34, 36, 42, 80, 84, 86, 87, 90, 92]\n",
      "Количество значений по трекам 153581\n",
      "[4, 5, 7, 9, 12, 14, 15, 16, 22, 31, 33, 34, 36, 42, 80, 84, 86, 87, 90, 92]\n",
      "Количество значений которых нет в каталоге 0\n",
      "set()\n"
     ]
    }
   ],
   "source": [
    "# 1.16. Проверяем, есть ли какие-то значения artists, которых нет в каталоге\n",
    "catalog_values = catalog_names[catalog_names['type'] == 'artist']\n",
    "print(catalog_values.head(5))\n",
    "catalog_ids = catalog_values['id'].tolist()\n",
    "print('Количество значений по каталогу', len(catalog_ids))\n",
    "print(catalog_ids[:20])\n",
    "\n",
    "# Разворачиваем списки в столбцах tracks\n",
    "# Преобразуем столбец genres в один массив, объединив все элементы\n",
    "all = np.concatenate(tracks['artists'].to_numpy())\n",
    "\n",
    "# Получим уникальные идентификаторы\n",
    "unique_values = np.unique(all)\n",
    "\n",
    "unique_list = unique_values.tolist()\n",
    "\n",
    "print('Количество значений по трекам', len(unique_list))\n",
    "print(unique_list[:20])\n",
    "\n",
    "# Проверяем, есть ли какие-то значения, отсутствующие в catalog_names\n",
    "missing_values = set(unique_list) - set(catalog_ids)\n",
    "print('Количество значений которых нет в каталоге', len(missing_values))\n",
    "print(missing_values)"
   ]
  },
  {
   "cell_type": "code",
   "execution_count": null,
   "id": "2c93800a",
   "metadata": {},
   "outputs": [
    {
     "name": "stdout",
     "output_type": "stream",
     "text": [
      "   id   type               name\n",
      "0   3  album    Taller Children\n",
      "1  12  album  Wild Young Hearts\n",
      "2  13  album      Lonesome Crow\n",
      "3  17  album      Graffiti Soul\n",
      "4  26  album     Blues Six Pack\n",
      "Количество значений по каталогу 658724\n",
      "[3, 12, 13, 17, 26, 27, 29, 34, 36, 39, 43, 45, 48, 49, 52, 54, 57, 58, 63, 65]\n",
      "Количество значений по трекам 658724\n",
      "[3, 12, 13, 17, 26, 27, 29, 34, 36, 39, 43, 45, 48, 49, 52, 54, 57, 58, 63, 65]\n",
      "Количество значений которых нет в каталоге 0\n",
      "set()\n"
     ]
    }
   ],
   "source": [
    "# 1.17. Проверяем, есть ли какие-то значения albums, которых нет в каталоге\n",
    "catalog_values = catalog_names[catalog_names['type'] == 'album']\n",
    "print(catalog_values.head(5))\n",
    "catalog_ids = catalog_values['id'].tolist()\n",
    "print('Количество значений по каталогу', len(catalog_ids))\n",
    "print(catalog_ids[:20])\n",
    "\n",
    "# Преобразуем столбец в один массив, объединив все элементы\n",
    "all = np.concatenate(tracks['albums'].to_numpy())\n",
    "\n",
    "# Получим уникальные идентификаторы\n",
    "unique_values = np.unique(all)\n",
    "\n",
    "unique_list = unique_values.tolist()\n",
    "\n",
    "print('Количество значений по трекам', len(unique_list))\n",
    "print(unique_list[:20])\n",
    "\n",
    "# Проверяем, есть ли какие-то значения, отсутствующие в catalog_names\n",
    "missing_values = set(unique_list) - set(catalog_ids)\n",
    "print('Количество значений которых нет в каталоге', len(missing_values))\n",
    "print(missing_values)"
   ]
  },
  {
   "cell_type": "code",
   "execution_count": 39,
   "id": "18359d74",
   "metadata": {},
   "outputs": [
    {
     "name": "stdout",
     "output_type": "stream",
     "text": [
      "         id   type                                 name\n",
      "812471   26  track                     Complimentary Me\n",
      "812472   38  track                          Momma's Boy\n",
      "812473  135  track                              Atticus\n",
      "812474  136  track                             24 Hours\n",
      "812475  138  track  Don't Upset The Rhythm (Go Baby Go)\n",
      "Количество значений по каталогу 1000000\n",
      "[26, 38, 135, 136, 138, 139, 140, 141, 143, 144, 145, 146, 147, 148, 149, 150, 151, 220, 223, 321]\n",
      "Количество значений по трекам 1000000\n",
      "[26, 38, 135, 136, 138, 139, 140, 141, 143, 144, 145, 146, 147, 148, 149, 150, 151, 220, 223, 321]\n",
      "Количество значений которых нет в каталоге 0\n",
      "set()\n"
     ]
    }
   ],
   "source": [
    "# 1.18. Проверяем, есть ли какие-то значения tracks, которых нет в каталоге\n",
    "catalog_values = catalog_names[catalog_names['type'] == 'track']\n",
    "print(catalog_values.head(5))\n",
    "catalog_ids = catalog_values['id'].tolist()\n",
    "print('Количество значений по каталогу', len(catalog_ids))\n",
    "print(catalog_ids[:20])\n",
    "\n",
    "# Разворачиваем списки в столбцах tracks\n",
    "# Преобразуем столбец genres в один массив, объединив все элементы\n",
    "all = np.array(tracks['track_id'].to_numpy())\n",
    "\n",
    "# Получим уникальные идентификаторы\n",
    "unique_values = np.unique(all)\n",
    "\n",
    "unique_list = unique_values.tolist()\n",
    "\n",
    "print('Количество значений по трекам', len(unique_list))\n",
    "print(unique_list[:20])\n",
    "\n",
    "# Проверяем, есть ли какие-то значения, отсутствующие в catalog_names\n",
    "missing_values = set(unique_list) - set(catalog_ids)\n",
    "print('Количество значений которых нет в каталоге', len(missing_values))\n",
    "print(missing_values)"
   ]
  },
  {
   "cell_type": "code",
   "execution_count": 5,
   "id": "87832ec3",
   "metadata": {},
   "outputs": [
    {
     "name": "stdout",
     "output_type": "stream",
     "text": [
      "      track_id                                             albums artists  \\\n",
      "490       2520  [249, 163801, 163802, 324616, 17542430, 189498...  [2259]   \n",
      "3069     16776  [1479, 5319, 6093, 8467, 10641, 90867, 163801,...   [978]   \n",
      "\n",
      "     genres  \n",
      "490      []  \n",
      "3069     []  \n"
     ]
    }
   ],
   "source": [
    "# 1.19 Проверим tracks на наличие пустых массивов\n",
    "# Находим строки, где genres содержит пустые массивы\n",
    "columns_to_check = ['albums', 'genres', 'artists']\n",
    "rows_with_empty_arrays = tracks[\n",
    "    tracks[columns_to_check].apply(\n",
    "        lambda row: any(isinstance(x, (list, np.ndarray)) and len(x) == 0 for x in row),\n",
    "        axis=1\n",
    "    )\n",
    "]\n",
    "print(rows_with_empty_arrays.head(2))"
   ]
  },
  {
   "cell_type": "code",
   "execution_count": 6,
   "id": "f644bf38",
   "metadata": {},
   "outputs": [
    {
     "name": "stdout",
     "output_type": "stream",
     "text": [
      "(980970, 4)\n"
     ]
    }
   ],
   "source": [
    "# 1.20 Удалим строки с пустыми массивами\n",
    "tracks = tracks[~tracks.index.isin(rows_with_empty_arrays.index)]\n",
    "print(tracks.shape)"
   ]
  },
  {
   "cell_type": "code",
   "execution_count": 7,
   "id": "82ed0830",
   "metadata": {},
   "outputs": [
    {
     "name": "stdout",
     "output_type": "stream",
     "text": [
      "(222184325, 4)\n"
     ]
    }
   ],
   "source": [
    "# 1.21 Оставим только те события, по  которым есть треки\n",
    "interactions = interactions[interactions['track_id'].isin(tracks['track_id'])]\n",
    "\n",
    "# Проверим результат\n",
    "print(interactions.shape)"
   ]
  },
  {
   "cell_type": "markdown",
   "id": "318b573a-9e2d-4808-95db-60cfb8bbdb73",
   "metadata": {
    "editable": true,
    "slideshow": {
     "slide_type": ""
    },
    "tags": []
   },
   "source": [
    "# Выводы"
   ]
  },
  {
   "cell_type": "markdown",
   "id": "caa96e12-36a8-4401-8f11-98627a49ae9d",
   "metadata": {},
   "source": [
    "Приведём выводы по первому знакомству с данными:\n",
    "- есть ли с данными явные проблемы,\n",
    "- какие корректирующие действия (в целом) были предприняты."
   ]
  },
  {
   "cell_type": "markdown",
   "id": "c78873df",
   "metadata": {},
   "source": [
    "Выводы:\n",
    "1. Пустых (пропущенных) значений не выявлено\n",
    "2. Типы данных id соответствуют целым числам\n",
    "3. Выявлено 35774 дубликатов в catalog_names, но по факту они не являются дубликатами, так как одному id соответствуют разные сущности, например, жанр и трек.\n",
    "4. В других датафреймах дубликатов не выявлено (проверка была выполнена по track_id в датафрейме tracks и по полям user_id, track_id в датафрейме intarections)\n",
    "5. Выявлено 30 неизвестных жанров. \n",
    "6. Неизвестных артистов, альбомов или треков не выявлено."
   ]
  },
  {
   "cell_type": "markdown",
   "id": "319c7e01",
   "metadata": {},
   "source": [
    "Корректирующие действия:\n",
    "1. Неизвестные жанры были удалены из треков\n",
    "2. Треки с неизвестными жанрами/треками/альбомами были также удалены\n",
    "3. Были удалены взаиможействия, связанные с удаленными треками"
   ]
  },
  {
   "cell_type": "markdown",
   "id": "7bc3296b-eba6-4333-a78d-b9304aa87e3d",
   "metadata": {},
   "source": [
    "# === ЭТАП 2 ==="
   ]
  },
  {
   "cell_type": "markdown",
   "id": "68e73960-fd38-4e15-8db0-9a25c35dfd25",
   "metadata": {},
   "source": [
    "# EDA"
   ]
  },
  {
   "cell_type": "markdown",
   "id": "a30e823e-8e0f-4a76-a02e-8d1ba8bf0f8a",
   "metadata": {},
   "source": [
    "Распределение количества прослушанных треков."
   ]
  },
  {
   "cell_type": "code",
   "execution_count": 8,
   "id": "2a1043ba",
   "metadata": {},
   "outputs": [
    {
     "name": "stdout",
     "output_type": "stream",
     "text": [
      "user_id\n",
      "398979     16630\n",
      "1200889    15383\n",
      "590868     13384\n",
      "731216     13221\n",
      "339714     12762\n",
      "           ...  \n",
      "1358580        1\n",
      "1026369        1\n",
      "276835         1\n",
      "1026515        1\n",
      "825601         1\n",
      "Name: track_id, Length: 1372767, dtype: int64\n"
     ]
    }
   ],
   "source": [
    "# 2.1. Узнаем, сколько треков слушал каждый уникальный пользователь\n",
    "user_tracks_counts = interactions.groupby('user_id')['track_id'].nunique()\n",
    "\n",
    "# Сортировка по количеству уникальных track_id\n",
    "sorted_user_tracks_counts = user_tracks_counts.sort_values(ascending=False)\n",
    "\n",
    "# Вывод результата\n",
    "print(sorted_user_tracks_counts)"
   ]
  },
  {
   "cell_type": "code",
   "execution_count": null,
   "id": "082915c9",
   "metadata": {},
   "outputs": [
    {
     "name": "stdout",
     "output_type": "stream",
     "text": [
      "Index([ 398979, 1200889,  590868,  731216,  339714, 1288206,  474845, 1195393,\n",
      "        805623,  207049,\n",
      "       ...\n",
      "       1299409, 1299423, 1226094,  406666, 1121567, 1239709,   58768,  873547,\n",
      "        515055,  922694],\n",
      "      dtype='int32', name='user_id', length=477033)\n",
      "(188885672, 4)\n"
     ]
    }
   ],
   "source": [
    "# 2.2. Оставим только тех пользователей, которые прослушали более 100 треков\n",
    "users_with_100_or_more_tracks = sorted_user_tracks_counts[sorted_user_tracks_counts >= 100].index\n",
    "print(users_with_100_or_more_tracks)\n",
    "\n",
    "interactions = interactions[interactions['user_id'].isin(users_with_100_or_more_tracks)]\n",
    "print(interactions.shape)\n",
    "# Итог: осталось 188 млн."
   ]
  },
  {
   "cell_type": "code",
   "execution_count": 10,
   "id": "9bf5eaba-35f7-4da7-be59-9ab4a34b2423",
   "metadata": {},
   "outputs": [],
   "source": [
    "# 2.3. Создадим новую колонку с месяцем, в котором был прослушан трек\n",
    "interactions[\"started_at_month\"] = pd.to_datetime(interactions[\"started_at\"]).dt.to_period('M').dt.to_timestamp().dt.date"
   ]
  },
  {
   "cell_type": "code",
   "execution_count": 11,
   "id": "361d3917",
   "metadata": {},
   "outputs": [],
   "source": [
    "# 2.4. Распределение по месяцам по прослушиваниям\n",
    "interactions_by_month = interactions.groupby(\"started_at_month\").agg(events=(\"started_at\", \"count\")).reset_index()"
   ]
  },
  {
   "cell_type": "code",
   "execution_count": 12,
   "id": "f1607c44",
   "metadata": {},
   "outputs": [
    {
     "data": {
      "text/html": [
       "<div>\n",
       "<style scoped>\n",
       "    .dataframe tbody tr th:only-of-type {\n",
       "        vertical-align: middle;\n",
       "    }\n",
       "\n",
       "    .dataframe tbody tr th {\n",
       "        vertical-align: top;\n",
       "    }\n",
       "\n",
       "    .dataframe thead th {\n",
       "        text-align: right;\n",
       "    }\n",
       "</style>\n",
       "<table border=\"1\" class=\"dataframe\">\n",
       "  <thead>\n",
       "    <tr style=\"text-align: right;\">\n",
       "      <th></th>\n",
       "      <th>started_at_month</th>\n",
       "      <th>events</th>\n",
       "    </tr>\n",
       "  </thead>\n",
       "  <tbody>\n",
       "    <tr>\n",
       "      <th>0</th>\n",
       "      <td>2022-01-01</td>\n",
       "      <td>2161140</td>\n",
       "    </tr>\n",
       "    <tr>\n",
       "      <th>1</th>\n",
       "      <td>2022-02-01</td>\n",
       "      <td>4022998</td>\n",
       "    </tr>\n",
       "    <tr>\n",
       "      <th>2</th>\n",
       "      <td>2022-03-01</td>\n",
       "      <td>6792725</td>\n",
       "    </tr>\n",
       "    <tr>\n",
       "      <th>3</th>\n",
       "      <td>2022-04-01</td>\n",
       "      <td>9001493</td>\n",
       "    </tr>\n",
       "    <tr>\n",
       "      <th>4</th>\n",
       "      <td>2022-05-01</td>\n",
       "      <td>11934859</td>\n",
       "    </tr>\n",
       "    <tr>\n",
       "      <th>5</th>\n",
       "      <td>2022-06-01</td>\n",
       "      <td>14207477</td>\n",
       "    </tr>\n",
       "    <tr>\n",
       "      <th>6</th>\n",
       "      <td>2022-07-01</td>\n",
       "      <td>17557274</td>\n",
       "    </tr>\n",
       "    <tr>\n",
       "      <th>7</th>\n",
       "      <td>2022-08-01</td>\n",
       "      <td>20705719</td>\n",
       "    </tr>\n",
       "    <tr>\n",
       "      <th>8</th>\n",
       "      <td>2022-09-01</td>\n",
       "      <td>23187253</td>\n",
       "    </tr>\n",
       "    <tr>\n",
       "      <th>9</th>\n",
       "      <td>2022-10-01</td>\n",
       "      <td>27096228</td>\n",
       "    </tr>\n",
       "    <tr>\n",
       "      <th>10</th>\n",
       "      <td>2022-11-01</td>\n",
       "      <td>28360963</td>\n",
       "    </tr>\n",
       "    <tr>\n",
       "      <th>11</th>\n",
       "      <td>2022-12-01</td>\n",
       "      <td>23857543</td>\n",
       "    </tr>\n",
       "  </tbody>\n",
       "</table>\n",
       "</div>"
      ],
      "text/plain": [
       "   started_at_month    events\n",
       "0        2022-01-01   2161140\n",
       "1        2022-02-01   4022998\n",
       "2        2022-03-01   6792725\n",
       "3        2022-04-01   9001493\n",
       "4        2022-05-01  11934859\n",
       "5        2022-06-01  14207477\n",
       "6        2022-07-01  17557274\n",
       "7        2022-08-01  20705719\n",
       "8        2022-09-01  23187253\n",
       "9        2022-10-01  27096228\n",
       "10       2022-11-01  28360963\n",
       "11       2022-12-01  23857543"
      ]
     },
     "execution_count": 12,
     "metadata": {},
     "output_type": "execute_result"
    }
   ],
   "source": [
    "# 2.5. Выведем кол-во прослушаваний в каждом месяце\n",
    "interactions_by_month"
   ]
  },
  {
   "cell_type": "code",
   "execution_count": 13,
   "id": "2f701784",
   "metadata": {},
   "outputs": [
    {
     "data": {
      "image/png": "[encoded data removed]",
      "text/plain": [
       "<Figure size 1200x300 with 1 Axes>"
      ]
     },
     "metadata": {},
     "output_type": "display_data"
    }
   ],
   "source": [
    "# 2.6. Построим График кол-ва прослушаваний в каждом месяце\n",
    "\n",
    "fig, ax = plt.subplots(1, 1, figsize=(12, 3))\n",
    "\n",
    "ax.plot(interactions_by_month[\"started_at_month\"], interactions_by_month[\"events\"])\n",
    "ax.set_title(\"#events by months\")\n",
    "\n",
    "fig.tight_layout()\n",
    "plt.show()"
   ]
  },
  {
   "cell_type": "code",
   "execution_count": 14,
   "id": "a26c717f",
   "metadata": {},
   "outputs": [],
   "source": [
    "# 2.7. Распределение по месяцам по уникальным пользователям\n",
    "interactions_by_month = interactions.groupby(\"started_at_month\").agg(users=(\"user_id\", \"nunique\")).reset_index()"
   ]
  },
  {
   "cell_type": "code",
   "execution_count": 15,
   "id": "e8b74f17",
   "metadata": {},
   "outputs": [
    {
     "data": {
      "text/html": [
       "<div>\n",
       "<style scoped>\n",
       "    .dataframe tbody tr th:only-of-type {\n",
       "        vertical-align: middle;\n",
       "    }\n",
       "\n",
       "    .dataframe tbody tr th {\n",
       "        vertical-align: top;\n",
       "    }\n",
       "\n",
       "    .dataframe thead th {\n",
       "        text-align: right;\n",
       "    }\n",
       "</style>\n",
       "<table border=\"1\" class=\"dataframe\">\n",
       "  <thead>\n",
       "    <tr style=\"text-align: right;\">\n",
       "      <th></th>\n",
       "      <th>started_at_month</th>\n",
       "      <th>users</th>\n",
       "    </tr>\n",
       "  </thead>\n",
       "  <tbody>\n",
       "    <tr>\n",
       "      <th>0</th>\n",
       "      <td>2022-01-01</td>\n",
       "      <td>48902</td>\n",
       "    </tr>\n",
       "    <tr>\n",
       "      <th>1</th>\n",
       "      <td>2022-02-01</td>\n",
       "      <td>90824</td>\n",
       "    </tr>\n",
       "    <tr>\n",
       "      <th>2</th>\n",
       "      <td>2022-03-01</td>\n",
       "      <td>136398</td>\n",
       "    </tr>\n",
       "    <tr>\n",
       "      <th>3</th>\n",
       "      <td>2022-04-01</td>\n",
       "      <td>180202</td>\n",
       "    </tr>\n",
       "    <tr>\n",
       "      <th>4</th>\n",
       "      <td>2022-05-01</td>\n",
       "      <td>224377</td>\n",
       "    </tr>\n",
       "    <tr>\n",
       "      <th>5</th>\n",
       "      <td>2022-06-01</td>\n",
       "      <td>265847</td>\n",
       "    </tr>\n",
       "    <tr>\n",
       "      <th>6</th>\n",
       "      <td>2022-07-01</td>\n",
       "      <td>307185</td>\n",
       "    </tr>\n",
       "    <tr>\n",
       "      <th>7</th>\n",
       "      <td>2022-08-01</td>\n",
       "      <td>346133</td>\n",
       "    </tr>\n",
       "    <tr>\n",
       "      <th>8</th>\n",
       "      <td>2022-09-01</td>\n",
       "      <td>378605</td>\n",
       "    </tr>\n",
       "    <tr>\n",
       "      <th>9</th>\n",
       "      <td>2022-10-01</td>\n",
       "      <td>403595</td>\n",
       "    </tr>\n",
       "    <tr>\n",
       "      <th>10</th>\n",
       "      <td>2022-11-01</td>\n",
       "      <td>406961</td>\n",
       "    </tr>\n",
       "    <tr>\n",
       "      <th>11</th>\n",
       "      <td>2022-12-01</td>\n",
       "      <td>353639</td>\n",
       "    </tr>\n",
       "  </tbody>\n",
       "</table>\n",
       "</div>"
      ],
      "text/plain": [
       "   started_at_month   users\n",
       "0        2022-01-01   48902\n",
       "1        2022-02-01   90824\n",
       "2        2022-03-01  136398\n",
       "3        2022-04-01  180202\n",
       "4        2022-05-01  224377\n",
       "5        2022-06-01  265847\n",
       "6        2022-07-01  307185\n",
       "7        2022-08-01  346133\n",
       "8        2022-09-01  378605\n",
       "9        2022-10-01  403595\n",
       "10       2022-11-01  406961\n",
       "11       2022-12-01  353639"
      ]
     },
     "execution_count": 15,
     "metadata": {},
     "output_type": "execute_result"
    }
   ],
   "source": [
    "# 2.8 Выведем кол-во униакльных пользователей в каждом месяце\n",
    "interactions_by_month"
   ]
  },
  {
   "cell_type": "code",
   "execution_count": 16,
   "id": "8f1946d9",
   "metadata": {},
   "outputs": [
    {
     "data": {
      "image/png": "[encoded data removed]",
      "text/plain": [
       "<Figure size 1200x300 with 1 Axes>"
      ]
     },
     "metadata": {},
     "output_type": "display_data"
    }
   ],
   "source": [
    "# 2.9. График кол-ва униакльных пользователей в каждом месяце\n",
    "\n",
    "fig, ax = plt.subplots(1, 1, figsize=(12, 3))\n",
    "\n",
    "ax.plot(interactions_by_month[\"started_at_month\"], interactions_by_month[\"users\"])\n",
    "ax.set_title(\"#users by months\")\n",
    "\n",
    "fig.tight_layout()\n",
    "plt.show()"
   ]
  },
  {
   "cell_type": "markdown",
   "id": "d765519a-18dd-4d30-9e29-cc2d84cacd79",
   "metadata": {},
   "source": [
    "Наиболее популярные треки"
   ]
  },
  {
   "cell_type": "code",
   "execution_count": 17,
   "id": "aecaf630-fde0-4860-b84a-42c933a9606e",
   "metadata": {},
   "outputs": [
    {
     "name": "stdout",
     "output_type": "stream",
     "text": [
      "        track_id  user_id\n",
      "0          53404    83634\n",
      "1         178529    75770\n",
      "2       33311009    71983\n",
      "3       60292250    64790\n",
      "4       35505245    63881\n",
      "...          ...      ...\n",
      "980259  45496696        1\n",
      "980260  42007144        1\n",
      "980261  42007179        1\n",
      "980262  42007212        1\n",
      "980263  42007110        1\n",
      "\n",
      "[980264 rows x 2 columns]\n"
     ]
    }
   ],
   "source": [
    "# 2.10. Покажем распределение популярности треков у пользователей (количество прослушавщих их пользователей)\n",
    "result = interactions.groupby('track_id').agg({'user_id':'count'}).sort_values('user_id', ascending=False).reset_index()\n",
    "print(result)"
   ]
  },
  {
   "cell_type": "code",
   "execution_count": 18,
   "id": "5fbb5842",
   "metadata": {},
   "outputs": [
    {
     "name": "stderr",
     "output_type": "stream",
     "text": [
      "/home/mle-user/mle_projects/mle-recsys-project-start/env_recsys_start/lib/python3.10/site-packages/seaborn/_oldcore.py:1498: FutureWarning: is_categorical_dtype is deprecated and will be removed in a future version. Use isinstance(dtype, CategoricalDtype) instead\n",
      "  if pd.api.types.is_categorical_dtype(vector):\n",
      "/home/mle-user/mle_projects/mle-recsys-project-start/env_recsys_start/lib/python3.10/site-packages/seaborn/_oldcore.py:1498: FutureWarning: is_categorical_dtype is deprecated and will be removed in a future version. Use isinstance(dtype, CategoricalDtype) instead\n",
      "  if pd.api.types.is_categorical_dtype(vector):\n"
     ]
    },
    {
     "data": {
      "image/png": "[encoded data removed]",
      "text/plain": [
       "<Figure size 640x480 with 1 Axes>"
      ]
     },
     "metadata": {},
     "output_type": "display_data"
    }
   ],
   "source": [
    "# 2.11. Построим график популярности треков\n",
    "x = 'track_id'\n",
    "y = 'user_id'\n",
    "sns.barplot(data=result.head(20), x=x, y=y, order=result['track_id'].head(20).tolist())\n",
    "\n",
    "# Добавление заголовка и отображение графика\n",
    "plt.title(f\"Топ-20 треков {x}.\")\n",
    "plt.xlabel('Трек')\n",
    "plt.xticks(rotation=45) \n",
    "plt.ylabel('Количество прослушиваний')\n",
    "plt.show()"
   ]
  },
  {
   "cell_type": "markdown",
   "id": "b1c32a5a-d3be-4f96-8dd9-f7860951020c",
   "metadata": {},
   "source": [
    "Наиболее популярные жанры"
   ]
  },
  {
   "cell_type": "code",
   "execution_count": null,
   "id": "1bc50491-9235-4d3c-a6c2-297f7c05a959",
   "metadata": {},
   "outputs": [],
   "source": [
    "# Проанализируем, какие жанры наиболее популярны\n",
    "# Объединяем DataFrame по track_id\n",
    "merged = interactions.merge(tracks, on=\"track_id\", how=\"left\")\n",
    "\n",
    "# Разворачиваем список жанров в отдельные строки\n",
    "all_genres = merged[\"genres\"].explode()\n",
    "\n",
    "# Считаем частоту каждого жанра\n",
    "genre_counts = all_genres.value_counts()\n",
    "\n",
    "# Выбираем топ-20 популярных жанров\n",
    "top_20_genres = genre_counts.head(20)\n",
    "\n",
    "print(top_20_genres)"
   ]
  },
  {
   "cell_type": "markdown",
   "id": "15254e66-e80e-473b-ba24-abebea5ccac7",
   "metadata": {},
   "source": [
    "Треки, которые никто не прослушал"
   ]
  },
  {
   "cell_type": "code",
   "execution_count": null,
   "id": "50bc50c6-2d83-4c7e-97fa-3e7627978438",
   "metadata": {},
   "outputs": [
    {
     "name": "stdout",
     "output_type": "stream",
     "text": [
      "user_id             477033\n",
      "track_id            980264\n",
      "track_seq            16637\n",
      "started_at             365\n",
      "started_at_month        12\n",
      "dtype: int64\n"
     ]
    }
   ],
   "source": [
    "print(interactions.nunique())\n",
    "# 477033 уникальных пользователей (изначально было 1,4 млн.)\n",
    "# 980 264 уникальных треков (изначально был 1 млн.)\n",
    "# Треков, которые никто не слушал НЕТ!"
   ]
  },
  {
   "cell_type": "markdown",
   "id": "0d850a07-ef1e-462f-891a-1cf89f2e24ef",
   "metadata": {},
   "source": [
    "# Преобразование данных"
   ]
  },
  {
   "cell_type": "markdown",
   "id": "fabcf8d2-1192-4df5-b20b-fbb84689f57a",
   "metadata": {},
   "source": [
    "Преобразуем данные в формат, более пригодный для дальнейшего использования в расчётах рекомендаций."
   ]
  },
  {
   "cell_type": "code",
   "execution_count": 20,
   "id": "a425556a-9382-45ca-a04e-f1981a522126",
   "metadata": {},
   "outputs": [],
   "source": [
    "items = tracks.copy()\n",
    "events = interactions.copy()"
   ]
  },
  {
   "cell_type": "code",
   "execution_count": 22,
   "id": "74e6e324",
   "metadata": {},
   "outputs": [],
   "source": [
    "del tracks\n",
    "del interactions"
   ]
  },
  {
   "cell_type": "code",
   "execution_count": 23,
   "id": "cbed8fa0",
   "metadata": {},
   "outputs": [
    {
     "name": "stdout",
     "output_type": "stream",
     "text": [
      "(188885672, 5)\n",
      "(980970, 4)\n"
     ]
    }
   ],
   "source": [
    "# Переименуем колонки\n",
    "events = events.rename(columns={'track_id': 'item_id'})\n",
    "items = items.rename(columns={'track_id': 'item_id'})\n",
    "print(events.shape)\n",
    "print(items.shape)"
   ]
  },
  {
   "cell_type": "markdown",
   "id": "4d1be653-eed8-4fa0-a9c5-3811b080d71d",
   "metadata": {},
   "source": [
    "# Сохранение данных"
   ]
  },
  {
   "cell_type": "markdown",
   "id": "36f1314a-3af3-4faf-a0b1-3045173d1500",
   "metadata": {},
   "source": [
    "Сохраним данные в двух файлах в персональном S3-бакете по пути `recsys/data/`:\n",
    "- `items.parquet` — все данные о музыкальных треках,\n",
    "- `events.parquet` — все данные о взаимодействиях."
   ]
  },
  {
   "cell_type": "code",
   "execution_count": 24,
   "id": "2650006b",
   "metadata": {},
   "outputs": [],
   "source": [
    "import os\n",
    "import boto3\n",
    "from dotenv import load_dotenv\n",
    "\n",
    "load_dotenv()\n",
    "S3_ENDPOINT_URL = \"https://storage.yandexcloud.net\"\n",
    "AWS_ACCESS_KEY_ID = os.getenv(\"AWS_ACCESS_KEY_ID\")\n",
    "AWS_SECRET_ACCESS_KEY = os.getenv(\"AWS_SECRET_ACCESS_KEY\")\n",
    "S3_BUCKET_NAME = os.getenv(\"S3_BUCKET_NAME\")\n",
    "\n",
    "s3_client = boto3.client(\n",
    "    \"s3\",\n",
    "    endpoint_url=S3_ENDPOINT_URL,\n",
    "    aws_access_key_id=AWS_ACCESS_KEY_ID,\n",
    "    aws_secret_access_key=AWS_SECRET_ACCESS_KEY,\n",
    ")"
   ]
  },
  {
   "cell_type": "code",
   "execution_count": 25,
   "id": "22ee17f0",
   "metadata": {},
   "outputs": [
    {
     "name": "stdout",
     "output_type": "stream",
     "text": [
      "Файл успешно сохранен на S3 по пути: recsys/data/items.parquet\n"
     ]
    }
   ],
   "source": [
    "# Сохраняем items\n",
    "buffer = io.BytesIO()\n",
    "items.to_parquet(buffer, index=False)\n",
    "buffer.seek(0)\n",
    "\n",
    "# Путь к файлу на S3\n",
    "s3_key = \"recsys/data/items.parquet\"\n",
    "bucket_name = S3_BUCKET_NAME\n",
    "\n",
    "# Загружаем файл на S3\n",
    "s3_client.put_object(\n",
    "    Bucket=bucket_name,\n",
    "    Key=s3_key,\n",
    "    Body=buffer\n",
    ")\n",
    "\n",
    "print(f\"Файл успешно сохранен на S3 по пути: {s3_key}\")\n"
   ]
  },
  {
   "cell_type": "code",
   "execution_count": 26,
   "id": "ad376772",
   "metadata": {},
   "outputs": [
    {
     "name": "stdout",
     "output_type": "stream",
     "text": [
      "Файл успешно сохранен на S3 по пути: recsys/data/events.parquet\n"
     ]
    }
   ],
   "source": [
    "# Сохраняем events\n",
    "buffer = io.BytesIO()\n",
    "events.to_parquet(buffer, index=False)\n",
    "buffer.seek(0)\n",
    "\n",
    "# Путь к файлу на S3\n",
    "s3_key = \"recsys/data/events.parquet\"\n",
    "bucket_name = S3_BUCKET_NAME\n",
    "\n",
    "# Загружаем файл на S3\n",
    "s3_client.put_object(\n",
    "    Bucket=bucket_name,\n",
    "    Key=s3_key,\n",
    "    Body=buffer\n",
    ")\n",
    "\n",
    "print(f\"Файл успешно сохранен на S3 по пути: {s3_key}\")"
   ]
  },
  {
   "cell_type": "markdown",
   "id": "72ecbbed-c560-44d9-9c14-86c7dc76f399",
   "metadata": {},
   "source": [
    "# Очистка памяти"
   ]
  },
  {
   "cell_type": "markdown",
   "id": "b5358ede-ba6e-4c4f-bd73-5b9344f0ba79",
   "metadata": {},
   "source": [
    "Здесь, может понадобится очистка памяти для высвобождения ресурсов для выполнения кода ниже. \n",
    "\n",
    "Приведите соответствующие код, комментарии, например:\n",
    "- код для удаление более ненужных переменных,\n",
    "- комментарий, что следует перезапустить kernel, выполнить такие-то начальные секции и продолжить с этапа 3."
   ]
  },
  {
   "cell_type": "code",
   "execution_count": 27,
   "id": "767fe920-e12e-4ad8-b04e-56e8091fac9f",
   "metadata": {},
   "outputs": [
    {
     "name": "stdout",
     "output_type": "stream",
     "text": [
      "Память очищена. Если возникнут проблемы с памятью, рекомендуется перезапустить kernel.\n"
     ]
    }
   ],
   "source": [
    "import gc\n",
    "# Удаляем ненужные переменные\n",
    "del items\n",
    "del events\n",
    "# Очищаем память с помощью сборщика мусора\n",
    "gc.collect()\n",
    "print(\"Память очищена. Если возникнут проблемы с памятью, рекомендуется перезапустить kernel.\")"
   ]
  },
  {
   "cell_type": "markdown",
   "id": "708503df-ee89-4cf3-8489-093dc478e2a8",
   "metadata": {},
   "source": [
    "# === ЭТАП 3 ==="
   ]
  },
  {
   "cell_type": "markdown",
   "id": "fd77de22-e10f-4b42-85c1-8fb6f805fe68",
   "metadata": {},
   "source": [
    "# Загрузка данных"
   ]
  },
  {
   "cell_type": "markdown",
   "id": "780a4241-1ecd-4a3e-bbb3-fc2f6ca94f68",
   "metadata": {},
   "source": [
    "Если необходимо, то загружаем items.parquet, events.parquet."
   ]
  },
  {
   "cell_type": "code",
   "execution_count": 29,
   "id": "99085bbc",
   "metadata": {},
   "outputs": [
    {
     "name": "stdout",
     "output_type": "stream",
     "text": [
      "(980970, 4)\n",
      "(188885672, 5)\n"
     ]
    }
   ],
   "source": [
    "import os\n",
    "import io\n",
    "import boto3\n",
    "import pandas as pd\n",
    "from dotenv import load_dotenv\n",
    "\n",
    "load_dotenv()\n",
    "\n",
    "S3_ENDPOINT_URL = \"https://storage.yandexcloud.net\"\n",
    "AWS_ACCESS_KEY_ID = os.getenv(\"AWS_ACCESS_KEY_ID\")\n",
    "AWS_SECRET_ACCESS_KEY = os.getenv(\"AWS_SECRET_ACCESS_KEY\")\n",
    "S3_BUCKET_NAME = os.getenv(\"S3_BUCKET_NAME\")\n",
    "\n",
    "s3_client = boto3.client(\n",
    "    \"s3\",\n",
    "    endpoint_url=S3_ENDPOINT_URL,\n",
    "    aws_access_key_id=AWS_ACCESS_KEY_ID,\n",
    "    aws_secret_access_key=AWS_SECRET_ACCESS_KEY,\n",
    ")\n",
    "\n",
    "# Функция для загрузки данных из S3\n",
    "def load_parquet_from_s3(s3_client, bucket_name, s3_key):\n",
    "    buffer = io.BytesIO()\n",
    "    s3_client.download_fileobj(Bucket=bucket_name, Key=s3_key, Fileobj=buffer)\n",
    "    buffer.seek(0)\n",
    "    return pd.read_parquet(buffer)\n",
    "\n",
    "items = load_parquet_from_s3(s3_client, S3_BUCKET_NAME, \"recsys/data/items.parquet\")\n",
    "print(items.shape)\n",
    "\n",
    "events = load_parquet_from_s3(s3_client, S3_BUCKET_NAME, \"recsys/data/events.parquet\")\n",
    "print(events.shape)"
   ]
  },
  {
   "cell_type": "markdown",
   "id": "a694c023-6477-490b-939d-1cfa6f5f1b72",
   "metadata": {},
   "source": [
    "# Разбиение данных"
   ]
  },
  {
   "cell_type": "markdown",
   "id": "fbd5f6e0-54e7-4428-8678-eabce505d82c",
   "metadata": {},
   "source": [
    "Разбиваем данные на тренировочную, тестовую выборки."
   ]
  },
  {
   "cell_type": "code",
   "execution_count": 30,
   "id": "00c2dfa5-d8a2-47d1-922e-6eefee2c62d1",
   "metadata": {},
   "outputs": [],
   "source": [
    "import logging\n",
    "\n",
    "import matplotlib.pyplot as plt\n",
    "import numpy as np\n",
    "import pandas as pd\n",
    "\n",
    "%matplotlib inline\n",
    "%config InlineBackend.figure_format = 'png'\n",
    "%config InlineBackend.figure_format = 'retina'"
   ]
  },
  {
   "cell_type": "code",
   "execution_count": 32,
   "id": "26fe3e3c-8c5f-4437-bf13-9191adef08bb",
   "metadata": {},
   "outputs": [
    {
     "name": "stdout",
     "output_type": "stream",
     "text": [
      "(178811394, 5) (10074278, 5)\n",
      "Количество общих пользователей: 279171\n",
      "475751 280453 279171\n"
     ]
    }
   ],
   "source": [
    "# 3.1 Разделим данные на две выборки: train и test\n",
    "# зададим точку разбиения\n",
    "train_test_global_time_split_date = pd.to_datetime(\"2022-12-16\")\n",
    "\n",
    "train_test_global_time_split_idx = events[\"started_at\"] < train_test_global_time_split_date\n",
    "events_train = events[train_test_global_time_split_idx]\n",
    "events_test = events[~train_test_global_time_split_idx]\n",
    "print(events_train.shape, events_test.shape)\n",
    "\n",
    "# количество пользователей в train и test\n",
    "users_train = events_train[\"user_id\"].drop_duplicates()\n",
    "users_test = events_test[\"user_id\"].drop_duplicates()\n",
    "# количество пользователей, которые есть и в train, и в test\n",
    "\n",
    "# Преобразуем уникальные идентификаторы пользователей в множества\n",
    "train_set = set(users_train)\n",
    "test_set = set(users_test)\n",
    "\n",
    "# Найдем пересечение множеств\n",
    "common_users = train_set.intersection(test_set)\n",
    "\n",
    "# Количество общих пользователей\n",
    "num_common_users = len(common_users)\n",
    "\n",
    "print(f\"Количество общих пользователей: {num_common_users}\")\n",
    "\n",
    "print(len(users_train), len(users_test), len(common_users))"
   ]
  },
  {
   "cell_type": "markdown",
   "id": "9131c7e6-8852-4556-b510-51f7253cc299",
   "metadata": {},
   "source": [
    "# Топ популярных"
   ]
  },
  {
   "cell_type": "markdown",
   "id": "dd70d43a-88cc-4719-b291-feaed7136f30",
   "metadata": {},
   "source": [
    "Рассчитаем рекомендации как топ популярных."
   ]
  },
  {
   "cell_type": "code",
   "execution_count": 33,
   "id": "ee45e200-b7d6-4f56-9077-aad431689b96",
   "metadata": {},
   "outputs": [
    {
     "name": "stdout",
     "output_type": "stream",
     "text": [
      "1282\n"
     ]
    }
   ],
   "source": [
    "# 3.2 Определим количество холодных юзеров\n",
    "cold_users = test_set - common_users\n",
    "\n",
    "print(len(cold_users))"
   ]
  },
  {
   "cell_type": "code",
   "execution_count": 34,
   "id": "7690c86f-7aa9-46ed-bba5-2c837626411e",
   "metadata": {},
   "outputs": [
    {
     "name": "stdout",
     "output_type": "stream",
     "text": [
      "          item_id  users\n",
      "0              26      5\n",
      "1              38      5\n",
      "2             135     15\n",
      "3             136      7\n",
      "4             138     14\n",
      "...           ...    ...\n",
      "979541  101478482      2\n",
      "979542  101490148     17\n",
      "979543  101493057      4\n",
      "979544  101495927      6\n",
      "979545  101521819     13\n",
      "\n",
      "[979546 rows x 2 columns]\n",
      "         item_id  users\n",
      "9091       53404  83493\n",
      "26635     178529  75616\n",
      "481379  33311009  69608\n",
      "509539  35505245  62651\n",
      "196451   6705392  62552\n",
      "...          ...    ...\n",
      "1534        7786  36097\n",
      "583848  40548548  35773\n",
      "76764     679169  35579\n",
      "835180  68348389  35486\n",
      "741791  56920237  35481\n",
      "\n",
      "[100 rows x 2 columns]\n"
     ]
    }
   ],
   "source": [
    "# 3.3. Рекомендации для холодных. \n",
    "# Найдем топ-100 наиболее популярных треков\n",
    "item_popularity = events_train.groupby([\"item_id\"]).agg(users=(\"user_id\", \"nunique\")).reset_index()\n",
    "print(item_popularity)\n",
    "\n",
    "# сортируем по убыванию количества проислушиваний\n",
    "item_popularity = item_popularity.sort_values('users', ascending=False)\n",
    "\n",
    "# выбираем первые 100 айтемов\n",
    "top_k_pop_items = item_popularity.head(100)\n",
    "print(top_k_pop_items)"
   ]
  },
  {
   "cell_type": "code",
   "execution_count": null,
   "id": "1361ba8a",
   "metadata": {},
   "outputs": [
    {
     "name": "stdout",
     "output_type": "stream",
     "text": [
      "События холодных пользователей - 149043\n",
      "Количество уникальных пользователей - 1282\n",
      "Количество пропущенных значений - 142112\n",
      "Количество совпадающих значений - 6931\n",
      "Доля событий, для которых совпали рекомендации 0.04650335809128909\n"
     ]
    }
   ],
   "source": [
    "# 3.4 Определим, для какой доли событий «холодных» пользователей в events_test рекомендации в top_k_pop_items совпали?\n",
    "cold = events_test[events_test[\"user_id\"].isin(cold_users)]\n",
    "print(f'События холодных пользователей - {cold.shape[0]}')\n",
    "\n",
    "test_users = cold['user_id'].nunique()\n",
    "print(f'Количество уникальных пользователей - {test_users}')\n",
    "\n",
    "cold_users_events_with_recs = cold.merge(top_k_pop_items, on=\"item_id\", how=\"left\")\n",
    "cold_user_items_no_avg_rating_idx = cold_users_events_with_recs[\"users\"].isnull()\n",
    "\n",
    "cold_user_items_no_avg_rating_count = cold_user_items_no_avg_rating_idx.sum()\n",
    "print(f'Количество пропущенных значений - {cold_user_items_no_avg_rating_count}')\n",
    "\n",
    "cold_user_recs = cold_users_events_with_recs[~cold_user_items_no_avg_rating_idx] \\\n",
    "    [[\"user_id\", \"item_id\", \"users\"]]\n",
    "print(f'Количество совпадающих значений - {cold_user_recs.shape[0]}')\n",
    "\n",
    "# Определим долю хол. пользователей, для которых совпали рекомендации:\n",
    "result = cold_user_recs.shape[0] / cold.shape[0]\n",
    "print(f'Доля событий, для которых совпали рекомендации {result}')"
   ]
  },
  {
   "cell_type": "code",
   "execution_count": 60,
   "id": "c3ea0454",
   "metadata": {},
   "outputs": [
    {
     "name": "stdout",
     "output_type": "stream",
     "text": [
      "Холодных пользователей, всего 1282\n",
      "Холодных пользователей с рекомендациями 1088\n",
      "Доля пользователей c релевантными рекомендациями: 0.8486739469578783\n"
     ]
    }
   ],
   "source": [
    "# 3.5 посчитаем покрытие холодных пользователей рекомендациями\n",
    "cold_users = len(cold.groupby(\"user_id\"))\n",
    "print('Холодных пользователей, всего', cold_users)\n",
    "cold_users_hit_ratio = cold_users_events_with_recs[cold_users_events_with_recs['users'].notna()].groupby(\"user_id\").size()\n",
    "unique_users = len(cold_users_hit_ratio)\n",
    "print('Холодных пользователей с рекомендациями', unique_users)\n",
    "\n",
    "print(f\"Доля пользователей c релевантными рекомендациями: {unique_users/cold_users}\")\n"
   ]
  },
  {
   "cell_type": "code",
   "execution_count": 61,
   "id": "fef57219",
   "metadata": {},
   "outputs": [
    {
     "name": "stdout",
     "output_type": "stream",
     "text": [
      "Файл успешно сохранен на S3 по пути: recsys/recommendations/top_popular.parquet\n"
     ]
    }
   ],
   "source": [
    "# 3.6 Сохраняем рекомендации:\n",
    "# Сохраняем events\n",
    "buffer = io.BytesIO()\n",
    "top_k_pop_items.to_parquet(buffer, index=False)\n",
    "buffer.seek(0)\n",
    "\n",
    "# Путь к файлу на S3\n",
    "s3_key = \"recsys/recommendations/top_popular.parquet\"\n",
    "bucket_name = S3_BUCKET_NAME\n",
    "\n",
    "# Загружаем файл на S3\n",
    "s3_client.put_object(\n",
    "    Bucket=bucket_name,\n",
    "    Key=s3_key,\n",
    "    Body=buffer\n",
    ")\n",
    "\n",
    "print(f\"Файл успешно сохранен на S3 по пути: {s3_key}\")"
   ]
  },
  {
   "cell_type": "markdown",
   "id": "2ad231f2-6158-421a-b7fa-01d8bc3ed572",
   "metadata": {},
   "source": [
    "# Персональные"
   ]
  },
  {
   "cell_type": "markdown",
   "id": "86159460-cd9d-4b63-8248-604ea3c9aebf",
   "metadata": {},
   "source": [
    "Рассчитаем персональные рекомендации."
   ]
  },
  {
   "cell_type": "code",
   "execution_count": 62,
   "id": "d2944822-569c-4f9b-82dc-70a7fa2d542e",
   "metadata": {},
   "outputs": [
    {
     "name": "stderr",
     "output_type": "stream",
     "text": [
      "/tmp/ipykernel_73422/1837707211.py:9: SettingWithCopyWarning: \n",
      "A value is trying to be set on a copy of a slice from a DataFrame.\n",
      "Try using .loc[row_indexer,col_indexer] = value instead\n",
      "\n",
      "See the caveats in the documentation: https://pandas.pydata.org/pandas-docs/stable/user_guide/indexing.html#returning-a-view-versus-a-copy\n",
      "  events_train[\"user_id_enc\"] = user_encoder.transform(events_train[\"user_id\"])\n",
      "/tmp/ipykernel_73422/1837707211.py:10: SettingWithCopyWarning: \n",
      "A value is trying to be set on a copy of a slice from a DataFrame.\n",
      "Try using .loc[row_indexer,col_indexer] = value instead\n",
      "\n",
      "See the caveats in the documentation: https://pandas.pydata.org/pandas-docs/stable/user_guide/indexing.html#returning-a-view-versus-a-copy\n",
      "  events_test[\"user_id_enc\"] = user_encoder.transform(events_test[\"user_id\"])\n",
      "/tmp/ipykernel_73422/1837707211.py:17: SettingWithCopyWarning: \n",
      "A value is trying to be set on a copy of a slice from a DataFrame.\n",
      "Try using .loc[row_indexer,col_indexer] = value instead\n",
      "\n",
      "See the caveats in the documentation: https://pandas.pydata.org/pandas-docs/stable/user_guide/indexing.html#returning-a-view-versus-a-copy\n",
      "  events_train[\"item_id_enc\"] = item_encoder.transform(events_train[\"item_id\"])\n"
     ]
    },
    {
     "name": "stdout",
     "output_type": "stream",
     "text": [
      "980969\n",
      "980969\n"
     ]
    },
    {
     "name": "stderr",
     "output_type": "stream",
     "text": [
      "/tmp/ipykernel_73422/1837707211.py:18: SettingWithCopyWarning: \n",
      "A value is trying to be set on a copy of a slice from a DataFrame.\n",
      "Try using .loc[row_indexer,col_indexer] = value instead\n",
      "\n",
      "See the caveats in the documentation: https://pandas.pydata.org/pandas-docs/stable/user_guide/indexing.html#returning-a-view-versus-a-copy\n",
      "  events_test[\"item_id_enc\"] = item_encoder.transform(events_test[\"item_id\"])\n"
     ]
    }
   ],
   "source": [
    "# 4.1. Перекодируем идентификаторы\n",
    "import scipy\n",
    "import sklearn.preprocessing\n",
    "\n",
    "# перекодируем идентификаторы пользователей: \n",
    "# из имеющихся в последовательность 0, 1, 2, ...\n",
    "user_encoder = sklearn.preprocessing.LabelEncoder()\n",
    "user_encoder.fit(events[\"user_id\"])\n",
    "events_train[\"user_id_enc\"] = user_encoder.transform(events_train[\"user_id\"])\n",
    "events_test[\"user_id_enc\"] = user_encoder.transform(events_test[\"user_id\"])\n",
    "\n",
    "# перекодируем идентификаторы объектов: \n",
    "# из имеющихся в последовательность 0, 1, 2, ...\n",
    "item_encoder = sklearn.preprocessing.LabelEncoder()\n",
    "item_encoder.fit(items[\"item_id\"])\n",
    "items[\"item_id_enc\"] = item_encoder.transform(items[\"item_id\"])\n",
    "events_train[\"item_id_enc\"] = item_encoder.transform(events_train[\"item_id\"])\n",
    "events_test[\"item_id_enc\"] = item_encoder.transform(events_test[\"item_id\"])"
   ]
  },
  {
   "cell_type": "code",
   "execution_count": 63,
   "id": "1e8cdb58-3a8c-45ad-8e5f-7f950314aa56",
   "metadata": {},
   "outputs": [
    {
     "name": "stdout",
     "output_type": "stream",
     "text": [
      "979546\n",
      "475751\n",
      "434.0149360205978\n"
     ]
    }
   ],
   "source": [
    "# 4.2 Вычислим размер матрицы\n",
    "x = events_train['item_id_enc'].nunique()\n",
    "print(x)\n",
    "y = events_train['user_id_enc'].nunique()\n",
    "print(y)\n",
    "r = ((x * y) / 1024 ** 3)\n",
    "print(r)"
   ]
  },
  {
   "cell_type": "code",
   "execution_count": 64,
   "id": "2dcd4f74",
   "metadata": {},
   "outputs": [
    {
     "name": "stdout",
     "output_type": "stream",
     "text": [
      "Матрица создана!\n"
     ]
    }
   ],
   "source": [
    "# 4.3. создаём sparse-матрицу формата CSR \n",
    "user_item_matrix_train = scipy.sparse.csr_matrix((\n",
    "    np.ones(len(events_train), dtype=np.int8),  # Значения: 1 для каждой пары\n",
    "    (events_train['user_id_enc'], events_train['item_id_enc'])),\n",
    "    dtype=np.int8)\n",
    "print('Матрица создана!')"
   ]
  },
  {
   "cell_type": "code",
   "execution_count": 65,
   "id": "edca6a69",
   "metadata": {},
   "outputs": [
    {
     "data": {
      "text/plain": [
       "4.163277195766568"
      ]
     },
     "execution_count": 65,
     "metadata": {},
     "output_type": "execute_result"
    }
   ],
   "source": [
    "# 4.4. Определим потребление ОП для sparce-матрицы\n",
    "import sys\n",
    "\n",
    "sum([sys.getsizeof(i) for i in user_item_matrix_train.data])/1024**3"
   ]
  },
  {
   "cell_type": "code",
   "execution_count": 66,
   "id": "57086457",
   "metadata": {},
   "outputs": [
    {
     "name": "stderr",
     "output_type": "stream",
     "text": [
      "/home/mle-user/mle_projects/mle-recsys-project-start/env_recsys_start/lib/python3.10/site-packages/tqdm/auto.py:21: TqdmWarning: IProgress not found. Please update jupyter and ipywidgets. See https://ipywidgets.readthedocs.io/en/stable/user_install.html\n",
      "  from .autonotebook import tqdm as notebook_tqdm\n",
      "/home/mle-user/mle_projects/mle-recsys-project-start/env_recsys_start/lib/python3.10/site-packages/implicit/cpu/als.py:95: RuntimeWarning: OpenBLAS is configured to use 4 threads. It is highly recommended to disable its internal threadpool by setting the environment variable 'OPENBLAS_NUM_THREADS=1' or by calling 'threadpoolctl.threadpool_limits(1, \"blas\")'. Having OpenBLAS use a threadpool can lead to severe performance issues here.\n",
      "  check_blas_config()\n",
      "100%|██████████| 50/50 [36:26<00:00, 43.72s/it]\n"
     ]
    }
   ],
   "source": [
    "# 4.5. Создадим и натренируем модель\n",
    "from implicit.als import AlternatingLeastSquares\n",
    "\n",
    "als_model = AlternatingLeastSquares(factors=50, iterations=50, regularization=0.05, random_state=0)\n",
    "als_model.fit(user_item_matrix_train)"
   ]
  },
  {
   "cell_type": "code",
   "execution_count": 67,
   "id": "5d0c444b",
   "metadata": {},
   "outputs": [],
   "source": [
    "# 4.6 Получим рекомендации\n",
    "def get_recommendations_als(user_item_matrix, model, user_id, user_encoder, item_encoder, include_seen=True, n=5):\n",
    "    \"\"\"\n",
    "    Возвращает отранжированные рекомендации для заданного пользователя\n",
    "    \"\"\"\n",
    "    user_id_enc = user_encoder.transform([user_id])[0]\n",
    "    recommendations = model.recommend(\n",
    "         user_id_enc, \n",
    "         user_item_matrix[user_id_enc], \n",
    "         filter_already_liked_items=not include_seen,\n",
    "         N=n)\n",
    "    recommendations = pd.DataFrame({\"item_id_enc\": recommendations[0], \"score\": recommendations[1]})\n",
    "    recommendations[\"item_id\"] = item_encoder.inverse_transform(recommendations[\"item_id_enc\"])\n",
    "    \n",
    "    return recommendations"
   ]
  },
  {
   "cell_type": "code",
   "execution_count": 68,
   "id": "012bf4eb",
   "metadata": {},
   "outputs": [
    {
     "name": "stdout",
     "output_type": "stream",
     "text": [
      "   user_id   item_id     score\n",
      "0        4  18820599  0.201269\n",
      "1        4    694683  0.194737\n",
      "2        4    647040  0.189356\n",
      "3        4       986  0.182152\n",
      "4        4    679169  0.176156\n"
     ]
    }
   ],
   "source": [
    "# 4.7. ПОЛУЧИМ РЕКОМЕНДАЦИИ ДЛЯ ВСЕХ ПОЛЬЗОВАТЕЛЕЙ\n",
    "# получаем список всех возможных user_id (перекодированных)\n",
    "user_ids_encoded = range(len(user_encoder.classes_))\n",
    "\n",
    "# получаем рекомендации для всех пользователей\n",
    "als_recommendations = als_model.recommend(\n",
    "    user_ids_encoded, \n",
    "    user_item_matrix_train[user_ids_encoded], \n",
    "    filter_already_liked_items=False, N=100)\n",
    "\n",
    "# преобразуем полученные рекомендации в табличный формат\n",
    "item_ids_enc = als_recommendations[0]\n",
    "als_scores = als_recommendations[1]\n",
    "\n",
    "als_recommendations = pd.DataFrame({\n",
    "    \"user_id_enc\": user_ids_encoded,\n",
    "    \"item_id_enc\": item_ids_enc.tolist(), \n",
    "    \"score\": als_scores.tolist()})\n",
    "als_recommendations = als_recommendations.explode([\"item_id_enc\", \"score\"], ignore_index=True)\n",
    "\n",
    "# приводим типы данных\n",
    "als_recommendations[\"item_id_enc\"] = als_recommendations[\"item_id_enc\"].astype(\"int\")\n",
    "als_recommendations[\"score\"] = als_recommendations[\"score\"].astype(\"float\")\n",
    "\n",
    "# получаем изначальные идентификаторы\n",
    "als_recommendations[\"user_id\"] = user_encoder.inverse_transform(als_recommendations[\"user_id_enc\"])\n",
    "als_recommendations[\"item_id\"] = item_encoder.inverse_transform(als_recommendations[\"item_id_enc\"])\n",
    "als_recommendations = als_recommendations.drop(columns=[\"user_id_enc\", \"item_id_enc\"])\n",
    "\n",
    "als_recommendations = als_recommendations[[\"user_id\", \"item_id\", \"score\"]]\n",
    "print(als_recommendations.head(5))"
   ]
  },
  {
   "cell_type": "code",
   "execution_count": 69,
   "id": "56c8a951",
   "metadata": {},
   "outputs": [
    {
     "name": "stdout",
     "output_type": "stream",
     "text": [
      "Файл успешно сохранен на S3 по пути: recsys/recommendations/personal_als.parquet\n"
     ]
    }
   ],
   "source": [
    "# 4.8 Сохраняем рекомендации:\n",
    "buffer = io.BytesIO()\n",
    "als_recommendations.to_parquet(buffer, index=False)\n",
    "buffer.seek(0)\n",
    "\n",
    "# Путь к файлу на S3\n",
    "s3_key = \"recsys/recommendations/personal_als.parquet\"\n",
    "bucket_name = S3_BUCKET_NAME\n",
    "\n",
    "# Загружаем файл на S3\n",
    "s3_client.put_object(\n",
    "    Bucket=bucket_name,\n",
    "    Key=s3_key,\n",
    "    Body=buffer\n",
    ")\n",
    "\n",
    "print(f\"Файл успешно сохранен на S3 по пути: {s3_key}\")"
   ]
  },
  {
   "cell_type": "code",
   "execution_count": 71,
   "id": "eab6ba43",
   "metadata": {},
   "outputs": [
    {
     "data": {
      "text/plain": [
       "(47703300, 3)"
      ]
     },
     "execution_count": 71,
     "metadata": {},
     "output_type": "execute_result"
    }
   ],
   "source": [
    "als_recommendations.shape"
   ]
  },
  {
   "cell_type": "markdown",
   "id": "5f09dc7e-7c91-4355-860a-b9cfb9f33f15",
   "metadata": {},
   "source": [
    "# Похожие"
   ]
  },
  {
   "cell_type": "markdown",
   "id": "1dfcb683-b440-40a8-9975-894156a53872",
   "metadata": {},
   "source": [
    "Рассчитаем похожие, они позже пригодятся для онлайн-рекомендаций."
   ]
  },
  {
   "cell_type": "code",
   "execution_count": 15,
   "id": "cc36fada",
   "metadata": {},
   "outputs": [],
   "source": [
    "import logging\n",
    "\n",
    "import matplotlib.pyplot as plt\n",
    "import numpy as np\n",
    "import pandas as pd\n",
    "\n",
    "%matplotlib inline\n",
    "%config InlineBackend.figure_format = 'png'\n",
    "%config InlineBackend.figure_format = 'retina'"
   ]
  },
  {
   "cell_type": "code",
   "execution_count": 16,
   "id": "a75d07ee-4b12-4ce5-aa85-e45cb7a7a4f0",
   "metadata": {},
   "outputs": [
    {
     "name": "stdout",
     "output_type": "stream",
     "text": [
      "(980970, 4)\n",
      "(188885672, 5)\n"
     ]
    }
   ],
   "source": [
    "# 4.1 Загружаем данные\n",
    "import os\n",
    "import io\n",
    "import boto3\n",
    "import pandas as pd\n",
    "from dotenv import load_dotenv\n",
    "\n",
    "load_dotenv()\n",
    "\n",
    "S3_ENDPOINT_URL = \"https://storage.yandexcloud.net\"\n",
    "AWS_ACCESS_KEY_ID = os.getenv(\"AWS_ACCESS_KEY_ID\")\n",
    "AWS_SECRET_ACCESS_KEY = os.getenv(\"AWS_SECRET_ACCESS_KEY\")\n",
    "S3_BUCKET_NAME = os.getenv(\"S3_BUCKET_NAME\")\n",
    "\n",
    "s3_client = boto3.client(\n",
    "    \"s3\",\n",
    "    endpoint_url=S3_ENDPOINT_URL,\n",
    "    aws_access_key_id=AWS_ACCESS_KEY_ID,\n",
    "    aws_secret_access_key=AWS_SECRET_ACCESS_KEY,\n",
    ")\n",
    "\n",
    "# Функция для загрузки данных из S3\n",
    "def load_parquet_from_s3(s3_client, bucket_name, s3_key):\n",
    "    buffer = io.BytesIO()\n",
    "    s3_client.download_fileobj(Bucket=bucket_name, Key=s3_key, Fileobj=buffer)\n",
    "    buffer.seek(0)\n",
    "    return pd.read_parquet(buffer)\n",
    "\n",
    "items = load_parquet_from_s3(s3_client, S3_BUCKET_NAME, \"recsys/data/items.parquet\")\n",
    "print(items.shape)\n",
    "\n",
    "events = load_parquet_from_s3(s3_client, S3_BUCKET_NAME, \"recsys/data/events.parquet\")\n",
    "print(events.shape)"
   ]
  },
  {
   "cell_type": "code",
   "execution_count": 17,
   "id": "ce370904-4c49-4152-8706-416074ea9b9a",
   "metadata": {},
   "outputs": [
    {
     "name": "stdout",
     "output_type": "stream",
     "text": [
      "(178811394, 5) (10074278, 5)\n"
     ]
    }
   ],
   "source": [
    "# 4.2 Разделим данные на две выборки: train и test\n",
    "# зададим точку разбиения\n",
    "train_test_global_time_split_date = pd.to_datetime(\"2022-12-16\")\n",
    "\n",
    "train_test_global_time_split_idx = events[\"started_at\"] < train_test_global_time_split_date\n",
    "events_train = events[train_test_global_time_split_idx]\n",
    "events_test = events[~train_test_global_time_split_idx]\n",
    "print(events_train.shape, events_test.shape)\n",
    "\n",
    "# количество пользователей в train и test\n",
    "users_train = events_train[\"user_id\"].drop_duplicates()\n",
    "users_test = events_test[\"user_id\"].drop_duplicates()\n",
    "# количество пользователей, которые есть и в train, и в test"
   ]
  },
  {
   "cell_type": "code",
   "execution_count": 18,
   "id": "60c6f434",
   "metadata": {},
   "outputs": [
    {
     "name": "stderr",
     "output_type": "stream",
     "text": [
      "/tmp/ipykernel_3574/1094988590.py:9: SettingWithCopyWarning: \n",
      "A value is trying to be set on a copy of a slice from a DataFrame.\n",
      "Try using .loc[row_indexer,col_indexer] = value instead\n",
      "\n",
      "See the caveats in the documentation: https://pandas.pydata.org/pandas-docs/stable/user_guide/indexing.html#returning-a-view-versus-a-copy\n",
      "  events_train[\"user_id_enc\"] = user_encoder.transform(events_train[\"user_id\"])\n",
      "/tmp/ipykernel_3574/1094988590.py:10: SettingWithCopyWarning: \n",
      "A value is trying to be set on a copy of a slice from a DataFrame.\n",
      "Try using .loc[row_indexer,col_indexer] = value instead\n",
      "\n",
      "See the caveats in the documentation: https://pandas.pydata.org/pandas-docs/stable/user_guide/indexing.html#returning-a-view-versus-a-copy\n",
      "  events_test[\"user_id_enc\"] = user_encoder.transform(events_test[\"user_id\"])\n",
      "/tmp/ipykernel_3574/1094988590.py:17: SettingWithCopyWarning: \n",
      "A value is trying to be set on a copy of a slice from a DataFrame.\n",
      "Try using .loc[row_indexer,col_indexer] = value instead\n",
      "\n",
      "See the caveats in the documentation: https://pandas.pydata.org/pandas-docs/stable/user_guide/indexing.html#returning-a-view-versus-a-copy\n",
      "  events_train[\"item_id_enc\"] = item_encoder.transform(events_train[\"item_id\"])\n",
      "/tmp/ipykernel_3574/1094988590.py:18: SettingWithCopyWarning: \n",
      "A value is trying to be set on a copy of a slice from a DataFrame.\n",
      "Try using .loc[row_indexer,col_indexer] = value instead\n",
      "\n",
      "See the caveats in the documentation: https://pandas.pydata.org/pandas-docs/stable/user_guide/indexing.html#returning-a-view-versus-a-copy\n",
      "  events_test[\"item_id_enc\"] = item_encoder.transform(events_test[\"item_id\"])\n"
     ]
    }
   ],
   "source": [
    "# 4.3. Перекодируем идентификаторы\n",
    "import scipy\n",
    "import sklearn.preprocessing\n",
    "\n",
    "# перекодируем идентификаторы пользователей: \n",
    "# из имеющихся в последовательность 0, 1, 2, ...\n",
    "user_encoder = sklearn.preprocessing.LabelEncoder()\n",
    "user_encoder.fit(events[\"user_id\"])\n",
    "events_train[\"user_id_enc\"] = user_encoder.transform(events_train[\"user_id\"])\n",
    "events_test[\"user_id_enc\"] = user_encoder.transform(events_test[\"user_id\"])\n",
    "\n",
    "# перекодируем идентификаторы объектов: \n",
    "# из имеющихся в последовательность 0, 1, 2, ...\n",
    "item_encoder = sklearn.preprocessing.LabelEncoder()\n",
    "item_encoder.fit(items[\"item_id\"])\n",
    "items[\"item_id_enc\"] = item_encoder.transform(items[\"item_id\"])\n",
    "events_train[\"item_id_enc\"] = item_encoder.transform(events_train[\"item_id\"])\n",
    "events_test[\"item_id_enc\"] = item_encoder.transform(events_test[\"item_id\"])"
   ]
  },
  {
   "cell_type": "code",
   "execution_count": 5,
   "id": "593f97c5",
   "metadata": {},
   "outputs": [
    {
     "name": "stdout",
     "output_type": "stream",
     "text": [
      "   item_id              albums artists    genres  item_id_enc\n",
      "0       26        [3, 2490753]    [16]  [11, 21]            0\n",
      "1       38        [3, 2490753]    [16]  [11, 21]            1\n",
      "2      135  [12, 214, 2490809]    [84]      [11]            2\n",
      "3      136  [12, 214, 2490809]    [84]      [11]            3\n"
     ]
    }
   ],
   "source": [
    "print(items.head(4))"
   ]
  },
  {
   "cell_type": "code",
   "execution_count": 19,
   "id": "f29169ab",
   "metadata": {},
   "outputs": [
    {
     "name": "stdout",
     "output_type": "stream",
     "text": [
      "[1, 2, 3, 4, 5, 6, 7, 8, 9, 10, 11, 12, 13, 14, 15, 16, 17, 18, 19, 20, 21, 22, 23, 24, 25, 26, 27, 28, 29, 30, 31, 32, 33, 35, 37, 38, 39, 40, 41, 43, 44, 45, 47, 48, 49, 50, 51, 52, 53, 54, 55, 56, 57, 58, 59, 60, 61, 62, 63, 64, 65, 66, 67, 68, 69, 70, 71, 72, 73, 74, 75, 76, 77, 79, 80, 84, 85, 86, 87, 88, 89, 90, 92, 94, 95, 97, 98, 99, 101, 102, 104, 105, 106, 107, 108, 109, 110, 111, 112, 113, 114, 115, 116, 117, 118, 120, 121, 123, 127, 128, 138, 190, 227, 246, 300, 308, 319, 325, 332, 335, 383, 415, 432, 489, 610, 702, 703, 743, 762, 849, 923, 1016, 1182, 1197, 1484, 1542]\n"
     ]
    }
   ],
   "source": [
    "# 4.4 Извлечем список уникальных жанров\n",
    "def get_genres(items):\n",
    "    \"\"\"\n",
    "    Извлекает список уникальных жанров из датафрейма items.\n",
    "    \"\"\"\n",
    "    genres = set()\n",
    "    for genre_list in items['genres']:\n",
    "        genres.update(genre_list)\n",
    "    return sorted(genres)\n",
    "\n",
    "genres = get_genres(items)\n",
    "print(genres)"
   ]
  },
  {
   "cell_type": "code",
   "execution_count": 20,
   "id": "36c2db7a",
   "metadata": {},
   "outputs": [
    {
     "name": "stdout",
     "output_type": "stream",
     "text": [
      "(980970, 136)\n"
     ]
    }
   ],
   "source": [
    "# 4.5 Создаем матрицу соответствия объектов жанрам.\n",
    "def get_item2genre_matrix(genres, items):\n",
    "    \"\"\"\n",
    "    Создает csr-матрицу соответствия объектов жанрам.\n",
    "    \"\"\"\n",
    "    genre_index = {genre: idx for idx, genre in enumerate(genres)}\n",
    "    \n",
    "    row_indices = []\n",
    "    col_indices = []\n",
    "    data = []\n",
    "\n",
    "    for row_idx, genre_list in enumerate(items['genres']):\n",
    "        for genre in genre_list:\n",
    "            row_indices.append(row_idx)\n",
    "            col_indices.append(genre_index[genre])\n",
    "            data.append(1)\n",
    "\n",
    "    matrix = scipy.sparse.csr_matrix((data, (row_indices, col_indices)), shape=(len(items), len(genres)))\n",
    "    return matrix\n",
    "\n",
    "all_items_genres_csr = get_item2genre_matrix(genres, items)\n",
    "print(all_items_genres_csr.shape)"
   ]
  },
  {
   "cell_type": "code",
   "execution_count": 8,
   "id": "68d20fa7",
   "metadata": {},
   "outputs": [
    {
     "data": {
      "text/plain": [
       "(980970, 5)"
      ]
     },
     "execution_count": 8,
     "metadata": {},
     "output_type": "execute_result"
    }
   ],
   "source": [
    "items.head(2)\n",
    "items.shape"
   ]
  },
  {
   "cell_type": "code",
   "execution_count": 9,
   "id": "ae333713",
   "metadata": {},
   "outputs": [
    {
     "data": {
      "text/plain": [
       "(178811394, 7)"
      ]
     },
     "execution_count": 9,
     "metadata": {},
     "output_type": "execute_result"
    }
   ],
   "source": [
    "events_train.head(2)\n",
    "events_train.shape"
   ]
  },
  {
   "cell_type": "code",
   "execution_count": 21,
   "id": "e6f48836",
   "metadata": {},
   "outputs": [
    {
     "name": "stdout",
     "output_type": "stream",
     "text": [
      "(243,)\n",
      "0      93\n",
      "1     880\n",
      "2    1961\n",
      "3    1965\n",
      "4    3358\n",
      "Name: item_id_enc, dtype: int64\n",
      "      item_id                                             albums  artists  \\\n",
      "93        966  [87, 1889, 5157, 6041, 7054, 37070, 90984, 271...    [798]   \n",
      "880      4094  [409, 422, 56804, 91241, 1165264, 3826520, 402...   [3276]   \n",
      "1961     9760  [977, 4167, 8027, 8041, 85617, 89635, 89668, 1...   [7147]   \n",
      "1965     9769  [977, 2463, 3298, 4029, 4167, 8027, 8041, 8316...   [7147]   \n",
      "3358    18392             [1597, 5334, 90410, 9765609, 13184923]  [11171]   \n",
      "\n",
      "             genres  item_id_enc  \n",
      "93        [14, 102]           93  \n",
      "880        [38, 47]          880  \n",
      "1961      [59, 102]         1961  \n",
      "1965  [14, 59, 102]         1965  \n",
      "3358           [47]         3358  \n"
     ]
    },
    {
     "data": {
      "text/plain": [
       "<Compressed Sparse Row sparse matrix of dtype 'int64'\n",
       "\twith 419 stored elements and shape (243, 136)>"
      ]
     },
     "execution_count": 21,
     "metadata": {},
     "output_type": "execute_result"
    }
   ],
   "source": [
    "# 4.6 Получем описанную матрицу для выбранного пользователя\n",
    "user_id = 4\n",
    "user_events = events_train.query(\"user_id == @user_id\")[\"item_id_enc\"]\n",
    "print(user_events.shape)\n",
    "print(user_events.head(5))\n",
    "user_items = items[items[\"item_id_enc\"].isin(user_events)]\n",
    "print(user_items.head(5))\n",
    "\n",
    "user_items_genres_csr = get_item2genre_matrix(genres, user_items)\n",
    "user_items_genres_csr"
   ]
  },
  {
   "cell_type": "code",
   "execution_count": 22,
   "id": "3045c66d",
   "metadata": {},
   "outputs": [
    {
     "name": "stdout",
     "output_type": "stream",
     "text": [
      "   genre  count  preference\n",
      "1    102     73    0.174224\n",
      "6     75     46    0.109785\n",
      "0     14     44    0.105012\n",
      "5     44     36    0.085919\n",
      "4     59     23    0.054893\n"
     ]
    }
   ],
   "source": [
    "# 4.7 вычислим склонность пользователя к жанрам\n",
    "from collections import Counter\n",
    "\n",
    "def calculate_genre_preferences(user_items):\n",
    "    \"\"\"\n",
    "    Рассчитывает склонность пользователя к жанрам на основе взаимодействий с элементами.\n",
    "    \"\"\"\n",
    "    # Считаем частоту жанров\n",
    "    all_genres = [genre for genres_list in user_items['genres'] for genre in genres_list]\n",
    "    genre_counts = Counter(all_genres)\n",
    "    \n",
    "    # Рассчитываем общую сумму жанров\n",
    "    total_genres = sum(genre_counts.values())\n",
    "    \n",
    "    # Создаем датафрейм с распределением жанров\n",
    "    genre_preferences = pd.DataFrame({\n",
    "        'genre': list(genre_counts.keys()),\n",
    "        'count': list(genre_counts.values())\n",
    "    })\n",
    "    \n",
    "    # Добавляем колонку с нормализованным распределением\n",
    "    genre_preferences['preference'] = genre_preferences['count'] / total_genres\n",
    "    \n",
    "    return genre_preferences.sort_values(by='preference', ascending=False)\n",
    "\n",
    "# Рассчитываем склонность пользователя к жанрам\n",
    "user_genre_preferences = calculate_genre_preferences(user_items)\n",
    "print(user_genre_preferences.head(5))"
   ]
  },
  {
   "cell_type": "code",
   "execution_count": 23,
   "id": "874cb3ad",
   "metadata": {},
   "outputs": [
    {
     "name": "stdout",
     "output_type": "stream",
     "text": [
      "(1, 136)\n"
     ]
    }
   ],
   "source": [
    "# 4.7 Преобразуем предпочтения пользователя в вектор\n",
    "def create_user_preference_vector(genres, user_genre_preferences):\n",
    "    \"\"\"\n",
    "    Преобразует предпочтения пользователя в вектор с размерностью, равной числу жанров.\n",
    "    \"\"\"\n",
    "    genre_to_index = {genre: idx for idx, genre in enumerate(genres)}\n",
    "    user_vector = np.zeros(len(genres))\n",
    "    \n",
    "    for _, row in user_genre_preferences.iterrows():\n",
    "        genre = row['genre']\n",
    "        preference = row['preference']\n",
    "        if genre in genre_to_index:\n",
    "            user_vector[genre_to_index[genre]] = preference\n",
    "    \n",
    "    return user_vector\n",
    "\n",
    "# Преобразуем user_genre_preferences в вектор\n",
    "user_preference_vector = create_user_preference_vector(genres, user_genre_preferences)\n",
    "user_preference_vector = user_preference_vector.reshape(1, -1)\n",
    "print(user_preference_vector.shape)\n"
   ]
  },
  {
   "cell_type": "code",
   "execution_count": 24,
   "id": "4bce1fa2",
   "metadata": {},
   "outputs": [
    {
     "name": "stdout",
     "output_type": "stream",
     "text": [
      "      item_id                                             albums artists  \\\n",
      "1587     8105  [842, 3717, 3957, 10663, 67324, 2498162, 44184...  [2610]   \n",
      "2598    13109                             [1245, 1534, 14030844]  [9105]   \n",
      "2603    13114                             [1245, 1534, 14030844]  [9105]   \n",
      "2606    13117                             [1245, 1534, 14030844]  [9105]   \n",
      "2608    13119        [1245, 1532, 1534, 1929, 6929535, 11612448]  [9105]   \n",
      "\n",
      "                     genres  item_id_enc  \n",
      "1587  [14, 44, 74, 75, 102]         1587  \n",
      "2598      [14, 44, 75, 102]         2598  \n",
      "2603      [14, 44, 75, 102]         2603  \n",
      "2606      [14, 44, 75, 102]         2606  \n",
      "2608      [14, 44, 75, 102]         2608  \n"
     ]
    }
   ],
   "source": [
    "# 4.8 Получим наиболее релевантные рекомендации для пользователя\n",
    "from sklearn.metrics.pairwise import cosine_similarity\n",
    "\n",
    "# вычисляем сходство между вектором пользователя и векторами по трекам\n",
    "similarity_scores = cosine_similarity(all_items_genres_csr, user_preference_vector)\n",
    "\n",
    "# преобразуем в одномерный массив\n",
    "similarity_scores = similarity_scores.flatten()\n",
    "\n",
    "# получаем индексы top-k (по убыванию значений), по сути, индексы треков (encoded)\n",
    "k = 100\n",
    "top_k_indices = np.argsort(similarity_scores)[-k:][::-1]\n",
    "\n",
    "selected_items = items[items[\"item_id_enc\"].isin(top_k_indices)]\n",
    "print(selected_items.head(5))"
   ]
  },
  {
   "cell_type": "code",
   "execution_count": 25,
   "id": "fcaee0aa",
   "metadata": {},
   "outputs": [
    {
     "name": "stdout",
     "output_type": "stream",
     "text": [
      "   user_id                                  recommended_items\n",
      "0        4  [1587, 2598, 2603, 2606, 2608, 3224, 15714, 30...\n",
      "1       13  [271817, 271818, 271819, 271820, 271821, 27182...\n",
      "2       14  [235426, 271219, 271265, 271266, 271267, 27126...\n",
      "3       16  [2124, 5326, 10761, 23012, 30821, 33365, 33554...\n",
      "4       19  [5453, 5457, 5460, 5488, 5491, 5492, 5494, 549...\n",
      "Файл успешно сохранен на S3 по пути: recsys/recommendations/similar.parquet\n"
     ]
    }
   ],
   "source": [
    "# 4.9 Вычислим рекомендации для всех пользователей\n",
    "\n",
    "def generate_recommendations_for_all_users(events_train, items, genres, k=100):\n",
    "    # Словарь для хранения рекомендаций\n",
    "    recommendations = {}\n",
    "    \n",
    "    # Получаем уникальных пользователей\n",
    "    user_ids = events_train[\"user_id\"].unique()\n",
    "\n",
    "    # Выберем первые 10000 уникальных пользователей для расчета рекомендаций (на всех считать очень долго)\n",
    "    user_ids = events_train[\"user_id\"].unique()[:10000]\n",
    "    events_train = events_train[events_train[\"user_id\"].isin(user_ids)]\n",
    "\n",
    "    \n",
    "    for user_id in user_ids:\n",
    "        # Получаем события для текущего пользователя\n",
    "        user_events = events_train.query(\"user_id == @user_id\")[\"item_id_enc\"]\n",
    "        \n",
    "        # Фильтруем треки пользователя\n",
    "        user_items = items[items[\"item_id_enc\"].isin(user_events)]\n",
    "        \n",
    "        # Рассчитываем предпочтения пользователя\n",
    "        user_genre_preferences = calculate_genre_preferences(user_items)\n",
    "        user_preference_vector = create_user_preference_vector(genres, user_genre_preferences)\n",
    "        # Преобразуем вектор в двумерный массив\n",
    "        user_preference_vector_reshaped = user_preference_vector.reshape(1, -1)\n",
    "        \n",
    "        # Рассчитываем сходство\n",
    "        similarity_scores = cosine_similarity(all_items_genres_csr, user_preference_vector_reshaped)\n",
    "        similarity_scores = similarity_scores.flatten()\n",
    "        \n",
    "        # Получаем топ-k индексов\n",
    "        top_k_indices = np.argsort(similarity_scores)[-k:][::-1]\n",
    "        \n",
    "        # Сохраняем рекомендации\n",
    "        recommendations[user_id] = list(items[items[\"item_id_enc\"].isin(top_k_indices)][\"item_id_enc\"])\n",
    "    \n",
    "    return recommendations\n",
    "\n",
    "content_recommendations = generate_recommendations_for_all_users(\n",
    "    events_train, items, genres, k=100)\n",
    "\n",
    "# Создание DataFrame с сохранением списка рекомендаций в одной ячейке\n",
    "recommendations_df = pd.DataFrame({\n",
    "    \"user_id\": content_recommendations.keys(),\n",
    "    \"recommended_items\": content_recommendations.values()\n",
    "})\n",
    "\n",
    "print(recommendations_df.head(5))\n",
    "recommendations_df.columns = [\"user_id\", \"recommended_items\"]\n",
    "recommendations_df[\"recommended_items\"] = recommendations_df[\"recommended_items\"].apply(lambda x: list(x) if not isinstance(x, list) else x)\n",
    "\n",
    "# Сохраняем\n",
    "buffer = io.BytesIO()\n",
    "recommendations_df.to_parquet(buffer, index=False)\n",
    "buffer.seek(0)\n",
    "\n",
    "# Путь к файлу на S3\n",
    "s3_key = \"recsys/recommendations/similar.parquet\"\n",
    "bucket_name = S3_BUCKET_NAME\n",
    "\n",
    "# Загружаем файл на S3\n",
    "s3_client.put_object(\n",
    "    Bucket=bucket_name,\n",
    "    Key=s3_key,\n",
    "    Body=buffer\n",
    ")\n",
    "\n",
    "print(f\"Файл успешно сохранен на S3 по пути: {s3_key}\")"
   ]
  },
  {
   "cell_type": "markdown",
   "id": "0087a3e7-ca9f-42cd-944c-944222c1baef",
   "metadata": {},
   "source": [
    "# Построение признаков"
   ]
  },
  {
   "cell_type": "markdown",
   "id": "e82a32e1-b90b-4eaf-9439-fc8deab9f34b",
   "metadata": {},
   "source": [
    "Построим три признака, можно больше, для ранжирующей модели."
   ]
  },
  {
   "cell_type": "code",
   "execution_count": 1,
   "id": "05b4ae84-406a-44a4-abec-4f80f93e3004",
   "metadata": {},
   "outputs": [
    {
     "name": "stdout",
     "output_type": "stream",
     "text": [
      "(980970, 4)\n",
      "(188885672, 5)\n",
      "(100, 2)\n",
      "   item_id  users\n",
      "0    53404  83493\n",
      "1   178529  75616\n",
      "(47703300, 3)\n",
      "   user_id   item_id     score\n",
      "0        4  18820599  0.201269\n",
      "1        4    694683  0.194737\n",
      "(10000, 2)\n",
      "   user_id                                  recommended_items\n",
      "0        4  [1587, 2598, 2603, 2606, 2608, 3224, 15714, 30...\n",
      "1       13  [271817, 271818, 271819, 271820, 271821, 27182...\n"
     ]
    }
   ],
   "source": [
    "# 5.1 Загружаем данные\n",
    "import os\n",
    "import io\n",
    "import boto3\n",
    "import pandas as pd\n",
    "from dotenv import load_dotenv\n",
    "\n",
    "load_dotenv()\n",
    "\n",
    "S3_ENDPOINT_URL = \"https://storage.yandexcloud.net\"\n",
    "AWS_ACCESS_KEY_ID = os.getenv(\"AWS_ACCESS_KEY_ID\")\n",
    "AWS_SECRET_ACCESS_KEY = os.getenv(\"AWS_SECRET_ACCESS_KEY\")\n",
    "S3_BUCKET_NAME = os.getenv(\"S3_BUCKET_NAME\")\n",
    "\n",
    "s3_client = boto3.client(\n",
    "    \"s3\",\n",
    "    endpoint_url=S3_ENDPOINT_URL,\n",
    "    aws_access_key_id=AWS_ACCESS_KEY_ID,\n",
    "    aws_secret_access_key=AWS_SECRET_ACCESS_KEY,\n",
    ")\n",
    "\n",
    "# Функция для загрузки данных из S3\n",
    "def load_parquet_from_s3(s3_client, bucket_name, s3_key):\n",
    "    buffer = io.BytesIO()\n",
    "    s3_client.download_fileobj(Bucket=bucket_name, Key=s3_key, Fileobj=buffer)\n",
    "    buffer.seek(0)\n",
    "    return pd.read_parquet(buffer)\n",
    "\n",
    "items = load_parquet_from_s3(s3_client, S3_BUCKET_NAME, \"recsys/data/items.parquet\")\n",
    "print(items.shape)\n",
    "\n",
    "events = load_parquet_from_s3(s3_client, S3_BUCKET_NAME, \"recsys/data/events.parquet\")\n",
    "print(events.shape)\n",
    "\n",
    "popular = load_parquet_from_s3(s3_client, S3_BUCKET_NAME, \"recsys/recommendations/top_popular.parquet\")\n",
    "print(popular.shape)\n",
    "print(popular.head(2))\n",
    "\n",
    "personal = load_parquet_from_s3(s3_client, S3_BUCKET_NAME, \"recsys/recommendations/personal_als.parquet\")\n",
    "print(personal.shape)\n",
    "print(personal.head(2))\n",
    "\n",
    "similar = load_parquet_from_s3(s3_client, S3_BUCKET_NAME, \"recsys/recommendations/similar.parquet\")\n",
    "print(similar.shape)\n",
    "print(similar.head(2))\n"
   ]
  },
  {
   "cell_type": "code",
   "execution_count": 2,
   "id": "00f84c35-f544-4c3d-ad53-9b1d2b684c75",
   "metadata": {},
   "outputs": [
    {
     "name": "stdout",
     "output_type": "stream",
     "text": [
      "(178811394, 5) (10074278, 5)\n"
     ]
    }
   ],
   "source": [
    "# 5.2 зададим точку разбиения\n",
    "train_test_global_time_split_date = pd.to_datetime(\"2022-12-16\")\n",
    "\n",
    "train_test_global_time_split_idx = events[\"started_at\"] < train_test_global_time_split_date\n",
    "events_train = events[train_test_global_time_split_idx]\n",
    "events_test = events[~train_test_global_time_split_idx]\n",
    "print(events_train.shape, events_test.shape)"
   ]
  },
  {
   "cell_type": "code",
   "execution_count": 3,
   "id": "f3ba587c",
   "metadata": {},
   "outputs": [
    {
     "name": "stderr",
     "output_type": "stream",
     "text": [
      "/tmp/ipykernel_121308/1673836426.py:7: SettingWithCopyWarning: \n",
      "A value is trying to be set on a copy of a slice from a DataFrame.\n",
      "Try using .loc[row_indexer,col_indexer] = value instead\n",
      "\n",
      "See the caveats in the documentation: https://pandas.pydata.org/pandas-docs/stable/user_guide/indexing.html#returning-a-view-versus-a-copy\n",
      "  events_train[\"user_id_enc\"] = user_encoder.transform(events_train[\"user_id\"])\n",
      "/tmp/ipykernel_121308/1673836426.py:8: SettingWithCopyWarning: \n",
      "A value is trying to be set on a copy of a slice from a DataFrame.\n",
      "Try using .loc[row_indexer,col_indexer] = value instead\n",
      "\n",
      "See the caveats in the documentation: https://pandas.pydata.org/pandas-docs/stable/user_guide/indexing.html#returning-a-view-versus-a-copy\n",
      "  events_test[\"user_id_enc\"] = user_encoder.transform(events_test[\"user_id\"])\n",
      "/tmp/ipykernel_121308/1673836426.py:15: SettingWithCopyWarning: \n",
      "A value is trying to be set on a copy of a slice from a DataFrame.\n",
      "Try using .loc[row_indexer,col_indexer] = value instead\n",
      "\n",
      "See the caveats in the documentation: https://pandas.pydata.org/pandas-docs/stable/user_guide/indexing.html#returning-a-view-versus-a-copy\n",
      "  events_train[\"item_id_enc\"] = item_encoder.transform(events_train[\"item_id\"])\n",
      "/tmp/ipykernel_121308/1673836426.py:16: SettingWithCopyWarning: \n",
      "A value is trying to be set on a copy of a slice from a DataFrame.\n",
      "Try using .loc[row_indexer,col_indexer] = value instead\n",
      "\n",
      "See the caveats in the documentation: https://pandas.pydata.org/pandas-docs/stable/user_guide/indexing.html#returning-a-view-versus-a-copy\n",
      "  events_test[\"item_id_enc\"] = item_encoder.transform(events_test[\"item_id\"])\n"
     ]
    }
   ],
   "source": [
    "import sklearn.preprocessing\n",
    "\n",
    "# 5.3 перекодируем идентификаторы пользователей: \n",
    "# из имеющихся в последовательность 0, 1, 2, ...\n",
    "user_encoder = sklearn.preprocessing.LabelEncoder()\n",
    "user_encoder.fit(events[\"user_id\"])\n",
    "events_train[\"user_id_enc\"] = user_encoder.transform(events_train[\"user_id\"])\n",
    "events_test[\"user_id_enc\"] = user_encoder.transform(events_test[\"user_id\"])\n",
    "\n",
    "# перекодируем идентификаторы объектов: \n",
    "# из имеющихся в последовательность 0, 1, 2, ...\n",
    "item_encoder = sklearn.preprocessing.LabelEncoder()\n",
    "item_encoder.fit(items[\"item_id\"])\n",
    "items[\"item_id_enc\"] = item_encoder.transform(items[\"item_id\"])\n",
    "events_train[\"item_id_enc\"] = item_encoder.transform(events_train[\"item_id\"])\n",
    "events_test[\"item_id_enc\"] = item_encoder.transform(events_test[\"item_id\"])"
   ]
  },
  {
   "cell_type": "code",
   "execution_count": 4,
   "id": "50370008",
   "metadata": {},
   "outputs": [
    {
     "name": "stdout",
     "output_type": "stream",
     "text": [
      "(5619167, 7)\n",
      "(4455111, 7)\n",
      "     user_id   item_id  track_seq started_at started_at_month  user_id_enc  \\\n",
      "243        4  83375862        245 2022-12-18       2022-12-01            0   \n",
      "244        4  83764704        246 2022-12-18       2022-12-01            0   \n",
      "\n",
      "     item_id_enc  \n",
      "243       925099  \n",
      "244       926662  \n",
      "279383\n"
     ]
    }
   ],
   "source": [
    "# 5.4. задаём точку разбиения для ранжирующей модели\n",
    "split_date_for_labels = pd.to_datetime(\"2022-12-23\")\n",
    "\n",
    "split_date_for_labels_idx = events_test[\"started_at\"] < split_date_for_labels\n",
    "events_labels = events_test[split_date_for_labels_idx].copy()\n",
    "events_test_2 = events_test[~split_date_for_labels_idx].copy()\n",
    "print(events_labels.shape)\n",
    "print(events_test_2.shape)\n",
    "print(events_labels.head(2))\n",
    "\n",
    "print(events_labels['user_id'].nunique())"
   ]
  },
  {
   "cell_type": "code",
   "execution_count": 5,
   "id": "3e234af4",
   "metadata": {},
   "outputs": [
    {
     "name": "stdout",
     "output_type": "stream",
     "text": [
      "(1000000, 3)\n",
      "   user_id  item_id  score\n",
      "0        4     1587    1.0\n",
      "1        4     2598    0.5\n",
      "(48703276, 4)\n"
     ]
    }
   ],
   "source": [
    "# 5.5 Приведем контентные рекомендации в другой вид:\n",
    "transformed_data = []\n",
    "\n",
    "for _, row in similar.iterrows():\n",
    "    user_id = row['user_id']\n",
    "    recommended_items = row['recommended_items']\n",
    "    for rank, item_id in enumerate(recommended_items, start=1):\n",
    "        transformed_data.append({\n",
    "            'user_id': user_id,\n",
    "            'item_id': item_id,\n",
    "            'score': 1 / rank  # обратный ранг\n",
    "        })\n",
    "\n",
    "# Создание датафрейма в нужном формате\n",
    "similar_tr = pd.DataFrame(transformed_data)\n",
    "print(similar_tr.shape)\n",
    "print(similar_tr.head(2))\n",
    "\n",
    "candidates = pd.merge(\n",
    "    personal[[\"user_id\", \"item_id\", \"score\"]].rename(columns={\"score\": \"als_score\"}),\n",
    "    similar_tr[[\"user_id\", \"item_id\", \"score\"]].rename(columns={\"score\": \"cnt_score\"}),\n",
    "    on=['user_id', 'item_id'],\n",
    "    how=\"outer\")\n",
    "print(candidates.shape)"
   ]
  },
  {
   "cell_type": "code",
   "execution_count": 6,
   "id": "7fab56f0",
   "metadata": {},
   "outputs": [
    {
     "name": "stdout",
     "output_type": "stream",
     "text": [
      "(48703276, 5)\n",
      "(7862096, 5)\n",
      "(476999, 5)\n"
     ]
    }
   ],
   "source": [
    "# 5.6\n",
    "# добавляем таргет к кандидатам со значением:\n",
    "# — 1 для тех item_id, которые пользователь прослушал\n",
    "# — 0, для всех остальных \n",
    "\n",
    "events_labels[\"target\"] = 1\n",
    "candidates = candidates.merge(events_labels[[\"user_id\", \"item_id\", \"target\"]],\n",
    "                               on=['user_id', 'item_id'], how=\"left\")\n",
    "candidates[\"target\"] = candidates[\"target\"].fillna(0).astype(\"int\")\n",
    "print(candidates.shape)\n",
    "\n",
    "# Оставляем только тех пользователей, у которых есть хотя бы один положительный таргет\n",
    "candidates_to_sample = candidates.groupby(\"user_id\").filter(lambda x: x[\"target\"].sum() > 0)\n",
    "print(candidates_to_sample.shape)\n",
    "# Для каждого пользователя оставляем только 4 негативных примера\n",
    "negatives_per_user = 4\n",
    "candidates_for_train = pd.concat([\n",
    "    candidates.query(\"target == 1\"),\n",
    "    candidates_to_sample.query(\"target == 0\")\n",
    "        .groupby(\"user_id\")\n",
    "        .apply(lambda x: x.sample(min(len(x), negatives_per_user), random_state=0))\n",
    "        .reset_index(drop=True)\n",
    "])\n",
    "print(candidates_for_train.shape)"
   ]
  },
  {
   "cell_type": "code",
   "execution_count": 7,
   "id": "bb160f96",
   "metadata": {},
   "outputs": [
    {
     "name": "stdout",
     "output_type": "stream",
     "text": [
      "      user_id   item_id  als_score  cnt_score  target\n",
      "631        23  31746480   0.293357        NaN       1\n",
      "935        26  61770750   0.117986        NaN       1\n",
      "1789       62  51677900   0.088909        NaN       1\n",
      "2816       90  93126179   0.314767        NaN       1\n",
      "2850       90  92535019   0.253273        NaN       1\n"
     ]
    }
   ],
   "source": [
    "print(candidates_for_train.head(5))"
   ]
  },
  {
   "cell_type": "code",
   "execution_count": 7,
   "id": "59d74ad6",
   "metadata": {},
   "outputs": [
    {
     "name": "stdout",
     "output_type": "stream",
     "text": [
      "   user_id   item_id  als_score  cnt_score  target  listening_months  \\\n",
      "0       23  31746480   0.293357        NaN       1          2.759754   \n",
      "1       26  61770750   0.117986        NaN       1          2.201232   \n",
      "2       62  51677900   0.088909        NaN       1          7.655031   \n",
      "3       90  93126179   0.314767        NaN       1          5.585216   \n",
      "4       90  92535019   0.253273        NaN       1          5.585216   \n",
      "\n",
      "   tracks_listened  tracks_per_month  \n",
      "0            459.0        166.319196  \n",
      "1            175.0         79.500933  \n",
      "2            153.0         19.986856  \n",
      "3            602.0        107.784559  \n",
      "4            602.0        107.784559  \n"
     ]
    }
   ],
   "source": [
    "# 5.7 Добавим признаки пользователей к кандидатам\n",
    "def get_user_features(events):\n",
    "    \"\"\" Считает пользовательские признаки с оптимизацией памяти \"\"\"\n",
    "    # Убедимся, что started_at имеет тип datetime\n",
    "    if events[\"started_at\"].dtype != \"datetime64[ns]\":\n",
    "        events[\"started_at\"] = pd.to_datetime(events[\"started_at\"])\n",
    "\n",
    "    # Вычисляем минимальные и максимальные даты на уровне пользователей\n",
    "    listening_period = events.groupby(\"user_id\")[\"started_at\"].agg([\"min\", \"max\"])\n",
    "\n",
    "    # Вычисляем количество месяцев прослушивания\n",
    "    listening_period[\"listening_months\"] = (\n",
    "        (listening_period[\"max\"] - listening_period[\"min\"]).dt.days / (365.25 / 12)\n",
    "    ).clip(lower=1)  # Минимум 1 месяц, чтобы избежать деления на 0\n",
    "\n",
    "    # Считаем количество прослушанных треков\n",
    "    tracks_listened = events.groupby(\"user_id\")[\"item_id\"].count()\n",
    "\n",
    "    # Создаем итоговый DataFrame\n",
    "    user_features = listening_period[[\"listening_months\"]].copy()\n",
    "    user_features[\"tracks_listened\"] = tracks_listened\n",
    "\n",
    "    # Рассчитываем треки на месяц\n",
    "    user_features[\"tracks_per_month\"] = (\n",
    "        user_features[\"tracks_listened\"] / user_features[\"listening_months\"]\n",
    "    )\n",
    "\n",
    "    return user_features\n",
    "\n",
    "# Применение функции\n",
    "user_features_for_train = get_user_features(events_train)\n",
    "candidates_for_train = candidates_for_train.merge(\n",
    "    user_features_for_train, on=\"user_id\", how=\"left\"\n",
    ")\n",
    "print(candidates_for_train.head(5))"
   ]
  },
  {
   "cell_type": "code",
   "execution_count": 9,
   "id": "72f6c712",
   "metadata": {},
   "outputs": [
    {
     "name": "stdout",
     "output_type": "stream",
     "text": [
      "(476999, 8)\n"
     ]
    }
   ],
   "source": [
    "print(candidates_for_train.shape)"
   ]
  },
  {
   "cell_type": "markdown",
   "id": "47bcf88d-b236-46f0-a6f3-38ddd64895fe",
   "metadata": {},
   "source": [
    "# Ранжирование рекомендаций"
   ]
  },
  {
   "cell_type": "markdown",
   "id": "e8cd8223-3418-4493-8c87-1f76286ebda0",
   "metadata": {},
   "source": [
    "Построим ранжирующую модель, чтобы сделать рекомендации более точными. Отранжируем рекомендации."
   ]
  },
  {
   "cell_type": "code",
   "execution_count": 8,
   "id": "79f1dd92-32a9-463d-827e-8bb9ee5bbb54",
   "metadata": {},
   "outputs": [
    {
     "name": "stdout",
     "output_type": "stream",
     "text": [
      "        user_id   item_id  als_score  cnt_score  target  listening_months  \\\n",
      "0            23  31746480   0.293357        NaN       1          2.759754   \n",
      "1            26  61770750   0.117986        NaN       1          2.201232   \n",
      "2            62  51677900   0.088909        NaN       1          7.655031   \n",
      "3            90  93126179   0.314767        NaN       1          5.585216   \n",
      "4            90  92535019   0.253273        NaN       1          5.585216   \n",
      "...         ...       ...        ...        ...     ...               ...   \n",
      "476994  1374557  24122719   0.267654        NaN       0          1.839836   \n",
      "476995  1374582  62352387   0.197144        NaN       0          1.248460   \n",
      "476996  1374582  50834580   0.123816        NaN       0          1.248460   \n",
      "476997  1374582  73161223   0.104724        NaN       0          1.248460   \n",
      "476998  1374582  67854450   0.143755        NaN       0          1.248460   \n",
      "\n",
      "        tracks_listened  tracks_per_month  \n",
      "0                 459.0        166.319196  \n",
      "1                 175.0         79.500933  \n",
      "2                 153.0         19.986856  \n",
      "3                 602.0        107.784559  \n",
      "4                 602.0        107.784559  \n",
      "...                 ...               ...  \n",
      "476994            493.0        267.958705  \n",
      "476995            207.0        165.804276  \n",
      "476996            207.0        165.804276  \n",
      "476997            207.0        165.804276  \n",
      "476998            207.0        165.804276  \n",
      "\n",
      "[476999 rows x 8 columns]\n",
      "0:\tlearn: 0.6802296\ttotal: 110ms\tremaining: 1m 49s\n",
      "100:\tlearn: 0.6213735\ttotal: 4.18s\tremaining: 37.2s\n",
      "200:\tlearn: 0.6206187\ttotal: 9.86s\tremaining: 39.2s\n",
      "300:\tlearn: 0.6199712\ttotal: 14.5s\tremaining: 33.6s\n",
      "400:\tlearn: 0.6194240\ttotal: 19.4s\tremaining: 28.9s\n",
      "500:\tlearn: 0.6189477\ttotal: 26.1s\tremaining: 26s\n",
      "600:\tlearn: 0.6184475\ttotal: 30.4s\tremaining: 20.2s\n",
      "700:\tlearn: 0.6180142\ttotal: 34.6s\tremaining: 14.8s\n",
      "800:\tlearn: 0.6175530\ttotal: 40.4s\tremaining: 10s\n",
      "900:\tlearn: 0.6171622\ttotal: 44.9s\tremaining: 4.93s\n",
      "999:\tlearn: 0.6167811\ttotal: 49.3s\tremaining: 0us\n"
     ]
    },
    {
     "data": {
      "text/plain": [
       "<catboost.core.CatBoostClassifier at 0x7f0f80bb3fa0>"
      ]
     },
     "execution_count": 8,
     "metadata": {},
     "output_type": "execute_result"
    }
   ],
   "source": [
    "# 6.1 Обучим модель с новыми признаками\n",
    "from catboost import CatBoostClassifier, Pool\n",
    "\n",
    "# задаём имена колонок признаков и таргета\n",
    "features = ['als_score', 'cnt_score', \n",
    "    'listening_months', 'tracks_listened', 'tracks_per_month']\n",
    "target = 'target'\n",
    "\n",
    "print(candidates_for_train)\n",
    "\n",
    "# создаём Pool\n",
    "train_data = Pool(\n",
    "    data=candidates_for_train[features], \n",
    "    label=candidates_for_train[target])\n",
    "\n",
    "# инициализируем модель CatBoostClassifier\n",
    "cb_model = CatBoostClassifier(\n",
    "    iterations=1000,\n",
    "    learning_rate=0.1,\n",
    "    depth=6,\n",
    "    loss_function='Logloss',\n",
    "    verbose=100,\n",
    "    random_seed=0,\n",
    ")\n",
    "\n",
    "# тренируем модель\n",
    "cb_model.fit(train_data)"
   ]
  },
  {
   "cell_type": "code",
   "execution_count": 10,
   "id": "ab544059",
   "metadata": {},
   "outputs": [
    {
     "name": "stdout",
     "output_type": "stream",
     "text": [
      "Модель успешно сохранена на S3 по пути: recsys/recommendations/cb_model.cbm\n"
     ]
    }
   ],
   "source": [
    "# Сохраняем\n",
    "temp_model_path = \"temp_cb_model.cbm\"\n",
    "\n",
    "# Сохраняем модель во временный файл\n",
    "cb_model.save_model(temp_model_path)\n",
    "\n",
    "# Читаем модель в байтовый поток\n",
    "with open(temp_model_path, \"rb\") as f:\n",
    "    buffer = io.BytesIO(f.read())\n",
    "\n",
    "# Удаляем временный файл\n",
    "os.remove(temp_model_path)\n",
    "\n",
    "# Путь к файлу на S3\n",
    "s3_key = \"recsys/recommendations/cb_model.cbm\"\n",
    "bucket_name = S3_BUCKET_NAME\n",
    "\n",
    "# Загружаем файл на S3\n",
    "s3_client.put_object(\n",
    "    Bucket=bucket_name,\n",
    "    Key=s3_key,\n",
    "    Body=buffer.getvalue()\n",
    ")\n",
    "\n",
    "print(f\"Модель успешно сохранена на S3 по пути: {s3_key}\")"
   ]
  },
  {
   "cell_type": "code",
   "execution_count": 1,
   "id": "94a611ed",
   "metadata": {},
   "outputs": [
    {
     "name": "stdout",
     "output_type": "stream",
     "text": [
      "(980970, 4)\n",
      "(188885672, 5)\n"
     ]
    }
   ],
   "source": [
    "# ПЕРСОНАЛЬНЫЕ_2\n",
    "# 6.2 Загружаем данные\n",
    "import os\n",
    "import io\n",
    "import boto3\n",
    "import pandas as pd\n",
    "from dotenv import load_dotenv\n",
    "\n",
    "load_dotenv()\n",
    "\n",
    "S3_ENDPOINT_URL = \"https://storage.yandexcloud.net\"\n",
    "AWS_ACCESS_KEY_ID = os.getenv(\"AWS_ACCESS_KEY_ID\")\n",
    "AWS_SECRET_ACCESS_KEY = os.getenv(\"AWS_SECRET_ACCESS_KEY\")\n",
    "S3_BUCKET_NAME = os.getenv(\"S3_BUCKET_NAME\")\n",
    "\n",
    "s3_client = boto3.client(\n",
    "    \"s3\",\n",
    "    endpoint_url=S3_ENDPOINT_URL,\n",
    "    aws_access_key_id=AWS_ACCESS_KEY_ID,\n",
    "    aws_secret_access_key=AWS_SECRET_ACCESS_KEY,\n",
    ")\n",
    "\n",
    "# Функция для загрузки данных из S3\n",
    "def load_parquet_from_s3(s3_client, bucket_name, s3_key):\n",
    "    buffer = io.BytesIO()\n",
    "    s3_client.download_fileobj(Bucket=bucket_name, Key=s3_key, Fileobj=buffer)\n",
    "    buffer.seek(0)\n",
    "    return pd.read_parquet(buffer)\n",
    "\n",
    "items = load_parquet_from_s3(s3_client, S3_BUCKET_NAME, \"recsys/data/items.parquet\")\n",
    "print(items.shape)\n",
    "\n",
    "events = load_parquet_from_s3(s3_client, S3_BUCKET_NAME, \"recsys/data/events.parquet\")\n",
    "print(events.shape)"
   ]
  },
  {
   "cell_type": "code",
   "execution_count": null,
   "id": "c320768c",
   "metadata": {},
   "outputs": [
    {
     "name": "stdout",
     "output_type": "stream",
     "text": [
      "(184430561, 5) (4455111, 5)\n",
      "Количество общих пользователей: 218580\n",
      "477033 218580 218580\n"
     ]
    }
   ],
   "source": [
    "# ПЕРСОНАЛЬНЫЕ_2\n",
    "# 6.3 Разделим данные на две выборки: train и test для инференса\n",
    "# зададим новую точку разбиения\n",
    "train_test_global_time_split_date = pd.to_datetime(\"2022-12-23\")\n",
    "\n",
    "train_test_global_time_split_idx = events[\"started_at\"] < train_test_global_time_split_date\n",
    "events_train = events[train_test_global_time_split_idx]\n",
    "events_test = events[~train_test_global_time_split_idx]\n",
    "print(events_train.shape, events_test.shape)\n",
    "\n",
    "# количество пользователей в train и test\n",
    "users_train = events_train[\"user_id\"].drop_duplicates()\n",
    "users_test = events_test[\"user_id\"].drop_duplicates()\n",
    "# количество пользователей, которые есть и в train, и в test\n",
    "\n",
    "# Преобразуем уникальные идентификаторы пользователей в множества\n",
    "train_set = set(users_train)\n",
    "test_set = set(users_test)\n",
    "\n",
    "# Найдем пересечение множеств\n",
    "common_users = train_set.intersection(test_set)\n",
    "\n",
    "# Количество общих пользователей\n",
    "num_common_users = len(common_users)\n",
    "\n",
    "print(f\"Количество общих пользователей: {num_common_users}\")\n",
    "\n",
    "print(len(users_train), len(users_test), len(common_users))"
   ]
  },
  {
   "cell_type": "code",
   "execution_count": 3,
   "id": "bc772462",
   "metadata": {},
   "outputs": [
    {
     "name": "stderr",
     "output_type": "stream",
     "text": [
      "/tmp/ipykernel_35498/4229007882.py:9: SettingWithCopyWarning: \n",
      "A value is trying to be set on a copy of a slice from a DataFrame.\n",
      "Try using .loc[row_indexer,col_indexer] = value instead\n",
      "\n",
      "See the caveats in the documentation: https://pandas.pydata.org/pandas-docs/stable/user_guide/indexing.html#returning-a-view-versus-a-copy\n",
      "  events_train[\"user_id_enc\"] = user_encoder.transform(events_train[\"user_id\"])\n",
      "/tmp/ipykernel_35498/4229007882.py:10: SettingWithCopyWarning: \n",
      "A value is trying to be set on a copy of a slice from a DataFrame.\n",
      "Try using .loc[row_indexer,col_indexer] = value instead\n",
      "\n",
      "See the caveats in the documentation: https://pandas.pydata.org/pandas-docs/stable/user_guide/indexing.html#returning-a-view-versus-a-copy\n",
      "  events_test[\"user_id_enc\"] = user_encoder.transform(events_test[\"user_id\"])\n",
      "/tmp/ipykernel_35498/4229007882.py:17: SettingWithCopyWarning: \n",
      "A value is trying to be set on a copy of a slice from a DataFrame.\n",
      "Try using .loc[row_indexer,col_indexer] = value instead\n",
      "\n",
      "See the caveats in the documentation: https://pandas.pydata.org/pandas-docs/stable/user_guide/indexing.html#returning-a-view-versus-a-copy\n",
      "  events_train[\"item_id_enc\"] = item_encoder.transform(events_train[\"item_id\"])\n",
      "/tmp/ipykernel_35498/4229007882.py:18: SettingWithCopyWarning: \n",
      "A value is trying to be set on a copy of a slice from a DataFrame.\n",
      "Try using .loc[row_indexer,col_indexer] = value instead\n",
      "\n",
      "See the caveats in the documentation: https://pandas.pydata.org/pandas-docs/stable/user_guide/indexing.html#returning-a-view-versus-a-copy\n",
      "  events_test[\"item_id_enc\"] = item_encoder.transform(events_test[\"item_id\"])\n"
     ]
    }
   ],
   "source": [
    "# ПЕРСОНАЛЬНЫЕ_2\n",
    "# 6.4. Перекодируем идентификаторы\n",
    "import scipy\n",
    "import sklearn.preprocessing\n",
    "\n",
    "# перекодируем идентификаторы пользователей: \n",
    "# из имеющихся в последовательность 0, 1, 2, ...\n",
    "user_encoder = sklearn.preprocessing.LabelEncoder()\n",
    "user_encoder.fit(events[\"user_id\"])\n",
    "events_train[\"user_id_enc\"] = user_encoder.transform(events_train[\"user_id\"])\n",
    "events_test[\"user_id_enc\"] = user_encoder.transform(events_test[\"user_id\"])\n",
    "\n",
    "# перекодируем идентификаторы объектов: \n",
    "# из имеющихся в последовательность 0, 1, 2, ...\n",
    "item_encoder = sklearn.preprocessing.LabelEncoder()\n",
    "item_encoder.fit(items[\"item_id\"])\n",
    "items[\"item_id_enc\"] = item_encoder.transform(items[\"item_id\"])\n",
    "events_train[\"item_id_enc\"] = item_encoder.transform(events_train[\"item_id\"])\n",
    "events_test[\"item_id_enc\"] = item_encoder.transform(events_test[\"item_id\"])"
   ]
  },
  {
   "cell_type": "code",
   "execution_count": 9,
   "id": "f692b345",
   "metadata": {},
   "outputs": [
    {
     "name": "stdout",
     "output_type": "stream",
     "text": [
      "980047\n",
      "477033\n",
      "435.40705046709627\n"
     ]
    }
   ],
   "source": [
    "# ПЕРСОНАЛЬНЫЕ_2\n",
    "# Вычислим размер матрицы\n",
    "x = events_train['item_id_enc'].nunique()\n",
    "print(x)\n",
    "y = events_train['user_id_enc'].nunique()\n",
    "print(y)\n",
    "r = ((x * y) / 1024 ** 3)\n",
    "print(r)"
   ]
  },
  {
   "cell_type": "code",
   "execution_count": null,
   "id": "543ace10",
   "metadata": {},
   "outputs": [
    {
     "name": "stdout",
     "output_type": "stream",
     "text": [
      "Матрица создана!\n"
     ]
    }
   ],
   "source": [
    "# ПЕРСОНАЛЬНЫЕ_2\n",
    "import numpy as np\n",
    "\n",
    "# 6.5. создаём sparse-матрицу формата CSR \n",
    "user_item_matrix_train = scipy.sparse.csr_matrix((\n",
    "    np.ones(len(events_train), dtype=np.int8),  # Значения: 1 для каждой пары\n",
    "    (events_train['user_id_enc'], events_train['item_id_enc'])),\n",
    "    dtype=np.int8)\n",
    "print('Матрица создана!')"
   ]
  },
  {
   "cell_type": "code",
   "execution_count": 6,
   "id": "1c6e0c0b",
   "metadata": {},
   "outputs": [
    {
     "name": "stderr",
     "output_type": "stream",
     "text": [
      "/home/mle-user/mle_projects/mle-recsys-project-start/env_recsys_start/lib/python3.10/site-packages/tqdm/auto.py:21: TqdmWarning: IProgress not found. Please update jupyter and ipywidgets. See https://ipywidgets.readthedocs.io/en/stable/user_install.html\n",
      "  from .autonotebook import tqdm as notebook_tqdm\n",
      "/home/mle-user/mle_projects/mle-recsys-project-start/env_recsys_start/lib/python3.10/site-packages/implicit/cpu/als.py:95: RuntimeWarning: OpenBLAS is configured to use 4 threads. It is highly recommended to disable its internal threadpool by setting the environment variable 'OPENBLAS_NUM_THREADS=1' or by calling 'threadpoolctl.threadpool_limits(1, \"blas\")'. Having OpenBLAS use a threadpool can lead to severe performance issues here.\n",
      "  check_blas_config()\n",
      "100%|██████████| 50/50 [37:26<00:00, 44.94s/it]\n"
     ]
    }
   ],
   "source": [
    "# ПЕРСОНАЛЬНЫЕ_2\n",
    "# 6.6. Создадим и натренируем модель\n",
    "from implicit.als import AlternatingLeastSquares\n",
    "\n",
    "als_model = AlternatingLeastSquares(factors=50, iterations=50, regularization=0.05, random_state=0)\n",
    "als_model.fit(user_item_matrix_train)"
   ]
  },
  {
   "cell_type": "code",
   "execution_count": 7,
   "id": "0fd93297",
   "metadata": {},
   "outputs": [
    {
     "name": "stdout",
     "output_type": "stream",
     "text": [
      "   user_id   item_id     score\n",
      "0        4  18820599  0.198029\n",
      "1        4    694683  0.189050\n",
      "2        4    647040  0.183900\n",
      "3        4       986  0.180415\n",
      "4        4  40493419  0.172102\n",
      "Файл успешно сохранен на S3 по пути: recsys/recommendations/personal_als_2.parquet\n"
     ]
    }
   ],
   "source": [
    "# ПЕРСОНАЛЬНЫЕ_2\n",
    "# 6.7 Получим рекомендации\n",
    "def get_recommendations_als(user_item_matrix, model, user_id, user_encoder, item_encoder, include_seen=True, n=5):\n",
    "    \"\"\"\n",
    "    Возвращает отранжированные рекомендации для заданного пользователя\n",
    "    \"\"\"\n",
    "    user_id_enc = user_encoder.transform([user_id])[0]\n",
    "    recommendations = model.recommend(\n",
    "         user_id_enc, \n",
    "         user_item_matrix[user_id_enc], \n",
    "         filter_already_liked_items=not include_seen,\n",
    "         N=n)\n",
    "    recommendations = pd.DataFrame({\"item_id_enc\": recommendations[0], \"score\": recommendations[1]})\n",
    "    recommendations[\"item_id\"] = item_encoder.inverse_transform(recommendations[\"item_id_enc\"])\n",
    "    \n",
    "    return recommendations\n",
    "\n",
    "# получаем список всех возможных user_id (перекодированных)\n",
    "user_ids_encoded = range(len(user_encoder.classes_))\n",
    "\n",
    "# получаем рекомендации для всех пользователей\n",
    "als_recommendations = als_model.recommend(\n",
    "    user_ids_encoded, \n",
    "    user_item_matrix_train[user_ids_encoded], \n",
    "    filter_already_liked_items=False, N=100)\n",
    "\n",
    "# преобразуем полученные рекомендации в табличный формат\n",
    "item_ids_enc = als_recommendations[0]\n",
    "als_scores = als_recommendations[1]\n",
    "\n",
    "als_recommendations = pd.DataFrame({\n",
    "    \"user_id_enc\": user_ids_encoded,\n",
    "    \"item_id_enc\": item_ids_enc.tolist(), \n",
    "    \"score\": als_scores.tolist()})\n",
    "als_recommendations = als_recommendations.explode([\"item_id_enc\", \"score\"], ignore_index=True)\n",
    "\n",
    "# приводим типы данных\n",
    "als_recommendations[\"item_id_enc\"] = als_recommendations[\"item_id_enc\"].astype(\"int\")\n",
    "als_recommendations[\"score\"] = als_recommendations[\"score\"].astype(\"float\")\n",
    "\n",
    "# получаем изначальные идентификаторы\n",
    "als_recommendations[\"user_id\"] = user_encoder.inverse_transform(als_recommendations[\"user_id_enc\"])\n",
    "als_recommendations[\"item_id\"] = item_encoder.inverse_transform(als_recommendations[\"item_id_enc\"])\n",
    "als_recommendations = als_recommendations.drop(columns=[\"user_id_enc\", \"item_id_enc\"])\n",
    "\n",
    "als_recommendations = als_recommendations[[\"user_id\", \"item_id\", \"score\"]]\n",
    "print(als_recommendations.head(5))\n",
    "\n",
    "buffer = io.BytesIO()\n",
    "als_recommendations.to_parquet(buffer, index=False)\n",
    "buffer.seek(0)\n",
    "\n",
    "# Путь к файлу на S3\n",
    "s3_key = \"recsys/recommendations/personal_als_2.parquet\"\n",
    "bucket_name = S3_BUCKET_NAME\n",
    "\n",
    "# Загружаем файл на S3\n",
    "s3_client.put_object(\n",
    "    Bucket=bucket_name,\n",
    "    Key=s3_key,\n",
    "    Body=buffer\n",
    ")\n",
    "\n",
    "print(f\"Файл успешно сохранен на S3 по пути: {s3_key}\")\n",
    "\n"
   ]
  },
  {
   "cell_type": "code",
   "execution_count": 8,
   "id": "ce6f5fca",
   "metadata": {},
   "outputs": [
    {
     "name": "stdout",
     "output_type": "stream",
     "text": [
      "(47703300, 3)\n",
      "   user_id   item_id     score\n",
      "0        4  18820599  0.198029\n",
      "1        4    694683  0.189050\n",
      "2        4    647040  0.183900\n",
      "3        4       986  0.180415\n",
      "4        4  40493419  0.172102\n"
     ]
    }
   ],
   "source": [
    "print(als_recommendations.shape)\n",
    "print(als_recommendations.head(5))"
   ]
  },
  {
   "cell_type": "code",
   "execution_count": 10,
   "id": "7b951936",
   "metadata": {},
   "outputs": [
    {
     "name": "stdout",
     "output_type": "stream",
     "text": [
      "[1, 2, 3, 4, 5, 6, 7, 8, 9, 10, 11, 12, 13, 14, 15, 16, 17, 18, 19, 20, 21, 22, 23, 24, 25, 26, 27, 28, 29, 30, 31, 32, 33, 35, 37, 38, 39, 40, 41, 43, 44, 45, 47, 48, 49, 50, 51, 52, 53, 54, 55, 56, 57, 58, 59, 60, 61, 62, 63, 64, 65, 66, 67, 68, 69, 70, 71, 72, 73, 74, 75, 76, 77, 79, 80, 84, 85, 86, 87, 88, 89, 90, 92, 94, 95, 97, 98, 99, 101, 102, 104, 105, 106, 107, 108, 109, 110, 111, 112, 113, 114, 115, 116, 117, 118, 120, 121, 123, 127, 128, 138, 190, 227, 246, 300, 308, 319, 325, 332, 335, 383, 415, 432, 489, 610, 702, 703, 743, 762, 849, 923, 1016, 1182, 1197, 1484, 1542]\n"
     ]
    }
   ],
   "source": [
    "# КОНТЕНТНЫЕ_2\n",
    "# Извлечем список уникальных жанров\n",
    "def get_genres(items):\n",
    "    \"\"\"\n",
    "    Извлекает список уникальных жанров из датафрейма items.\n",
    "    \"\"\"\n",
    "    genres = set()\n",
    "    for genre_list in items['genres']:\n",
    "        genres.update(genre_list)\n",
    "    return sorted(genres)\n",
    "\n",
    "genres = get_genres(items)\n",
    "print(genres)"
   ]
  },
  {
   "cell_type": "code",
   "execution_count": 11,
   "id": "e89cfb11",
   "metadata": {},
   "outputs": [
    {
     "name": "stdout",
     "output_type": "stream",
     "text": [
      "(980970, 136)\n"
     ]
    }
   ],
   "source": [
    "# КОНТЕНТНЫЕ_2\n",
    "# Создаем матрицу соответствия объектов жанрам.\n",
    "def get_item2genre_matrix(genres, items):\n",
    "    \"\"\"\n",
    "    Создает csr-матрицу соответствия объектов жанрам.\n",
    "    \"\"\"\n",
    "    genre_index = {genre: idx for idx, genre in enumerate(genres)}\n",
    "    \n",
    "    row_indices = []\n",
    "    col_indices = []\n",
    "    data = []\n",
    "\n",
    "    for row_idx, genre_list in enumerate(items['genres']):\n",
    "        for genre in genre_list:\n",
    "            row_indices.append(row_idx)\n",
    "            col_indices.append(genre_index[genre])\n",
    "            data.append(1)\n",
    "\n",
    "    matrix = scipy.sparse.csr_matrix((data, (row_indices, col_indices)), shape=(len(items), len(genres)))\n",
    "    return matrix\n",
    "\n",
    "all_items_genres_csr = get_item2genre_matrix(genres, items)\n",
    "print(all_items_genres_csr.shape)"
   ]
  },
  {
   "cell_type": "code",
   "execution_count": 12,
   "id": "8bdf12d3",
   "metadata": {},
   "outputs": [
    {
     "name": "stdout",
     "output_type": "stream",
     "text": [
      "(184430561, 7)\n"
     ]
    }
   ],
   "source": [
    "print(events_train.shape)"
   ]
  },
  {
   "cell_type": "code",
   "execution_count": 17,
   "id": "010e6a2e",
   "metadata": {},
   "outputs": [
    {
     "name": "stdout",
     "output_type": "stream",
     "text": [
      "   user_id                                  recommended_items\n",
      "0        4  [1587, 2598, 2603, 2606, 2608, 3224, 15714, 30...\n",
      "1       13  [390434, 390435, 390436, 390437, 390438, 39043...\n",
      "2       14  [119246, 119255, 119272, 119284, 119286, 17342...\n",
      "3       16  [921, 2124, 2534, 12595, 14665, 14666, 14667, ...\n",
      "4       19  [5485, 5486, 5487, 5488, 5489, 5491, 5492, 551...\n",
      "Файл успешно сохранен на S3 по пути: recsys/recommendations/similar_2.parquet\n"
     ]
    }
   ],
   "source": [
    "# КОНТЕНТНЫЕ_2\n",
    "from collections import Counter\n",
    "from sklearn.metrics.pairwise import cosine_similarity\n",
    "\n",
    "def create_user_preference_vector(genres, user_genre_preferences):\n",
    "    \"\"\"\n",
    "    Преобразует предпочтения пользователя в вектор с размерностью, равной числу жанров.\n",
    "    \"\"\"\n",
    "    genre_to_index = {genre: idx for idx, genre in enumerate(genres)}\n",
    "    user_vector = np.zeros(len(genres))\n",
    "    \n",
    "    for _, row in user_genre_preferences.iterrows():\n",
    "        genre = row['genre']\n",
    "        preference = row['preference']\n",
    "        if genre in genre_to_index:\n",
    "            user_vector[genre_to_index[genre]] = preference\n",
    "    \n",
    "    return user_vector\n",
    "\n",
    "def calculate_genre_preferences(user_items):\n",
    "    \"\"\"\n",
    "    Рассчитывает склонность пользователя к жанрам на основе взаимодействий с элементами.\n",
    "    \"\"\"\n",
    "    # Считаем частоту жанров\n",
    "    all_genres = [genre for genres_list in user_items['genres'] for genre in genres_list]\n",
    "    genre_counts = Counter(all_genres)\n",
    "    \n",
    "    # Рассчитываем общую сумму жанров\n",
    "    total_genres = sum(genre_counts.values())\n",
    "    \n",
    "    # Создаем датафрейм с распределением жанров\n",
    "    genre_preferences = pd.DataFrame({\n",
    "        'genre': list(genre_counts.keys()),\n",
    "        'count': list(genre_counts.values())\n",
    "    })\n",
    "    \n",
    "    # Добавляем колонку с нормализованным распределением\n",
    "    genre_preferences['preference'] = genre_preferences['count'] / total_genres\n",
    "    \n",
    "    return genre_preferences.sort_values(by='preference', ascending=False)\n",
    "\n",
    "def generate_recommendations_for_all_users(events_train, items, genres, k=100):\n",
    "    # Словарь для хранения рекомендаций\n",
    "    recommendations = {}\n",
    "    \n",
    "    # Получаем уникальных пользователей\n",
    "    user_ids = events_train[\"user_id\"].unique()\n",
    "\n",
    "    # Выберем первые 10000 уникальных пользователей для расчета рекомендаций (на всех считать очень долго)\n",
    "    user_ids = events_train[\"user_id\"].unique()[:10000]\n",
    "    events_train = events_train[events_train[\"user_id\"].isin(user_ids)]\n",
    "\n",
    "    \n",
    "    for user_id in user_ids:\n",
    "        # Получаем события для текущего пользователя\n",
    "        user_events = events_train.query(\"user_id == @user_id\")[\"item_id_enc\"]\n",
    "        \n",
    "        # Фильтруем треки пользователя\n",
    "        user_items = items[items[\"item_id_enc\"].isin(user_events)]\n",
    "        \n",
    "        # Рассчитываем предпочтения пользователя\n",
    "        user_genre_preferences = calculate_genre_preferences(user_items)\n",
    "        user_preference_vector = create_user_preference_vector(genres, user_genre_preferences)\n",
    "        # Преобразуем вектор в двумерный массив\n",
    "        user_preference_vector_reshaped = user_preference_vector.reshape(1, -1)\n",
    "        \n",
    "        # Рассчитываем сходство\n",
    "        similarity_scores = cosine_similarity(all_items_genres_csr, user_preference_vector_reshaped)\n",
    "        similarity_scores = similarity_scores.flatten()\n",
    "        \n",
    "        # Получаем топ-k индексов\n",
    "        top_k_indices = np.argsort(similarity_scores)[-k:][::-1]\n",
    "        \n",
    "        # Сохраняем рекомендации\n",
    "        recommendations[user_id] = list(items[items[\"item_id_enc\"].isin(top_k_indices)][\"item_id_enc\"])\n",
    "    \n",
    "    return recommendations\n",
    "\n",
    "content_recommendations = generate_recommendations_for_all_users(\n",
    "    events_train, items, genres, k=100)\n",
    "\n",
    "# Создание DataFrame с сохранением списка рекомендаций в одной ячейке\n",
    "recommendations_df = pd.DataFrame({\n",
    "    \"user_id\": content_recommendations.keys(),\n",
    "    \"recommended_items\": content_recommendations.values()\n",
    "})\n",
    "\n",
    "print(recommendations_df.head(5))\n",
    "recommendations_df.columns = [\"user_id\", \"recommended_items\"]\n",
    "recommendations_df[\"recommended_items\"] = recommendations_df[\"recommended_items\"].apply(lambda x: list(x) if not isinstance(x, list) else x)\n",
    "\n",
    "# Сохраняем\n",
    "buffer = io.BytesIO()\n",
    "recommendations_df.to_parquet(buffer, index=False)\n",
    "buffer.seek(0)\n",
    "\n",
    "# Путь к файлу на S3\n",
    "s3_key = \"recsys/recommendations/similar_2.parquet\"\n",
    "bucket_name = S3_BUCKET_NAME\n",
    "\n",
    "# Загружаем файл на S3\n",
    "s3_client.put_object(\n",
    "    Bucket=bucket_name,\n",
    "    Key=s3_key,\n",
    "    Body=buffer\n",
    ")\n",
    "\n",
    "print(f\"Файл успешно сохранен на S3 по пути: {s3_key}\")"
   ]
  },
  {
   "cell_type": "code",
   "execution_count": 10,
   "id": "df133284",
   "metadata": {},
   "outputs": [
    {
     "name": "stdout",
     "output_type": "stream",
     "text": [
      "Модель загужена!\n",
      "(980970, 4)\n",
      "(188885672, 5)\n",
      "(47703300, 3)\n",
      "   user_id   item_id     score\n",
      "0        4  18820599  0.198029\n",
      "1        4    694683  0.189050\n",
      "(10000, 2)\n",
      "   user_id                                  recommended_items\n",
      "0        4  [1587, 2598, 2603, 2606, 2608, 3224, 15714, 30...\n",
      "1       13  [390434, 390435, 390436, 390437, 390438, 39043...\n"
     ]
    }
   ],
   "source": [
    "# ПРОМЕЖУТОЧНЫЙ ШАГ. ГРУЗИМ ДАННЫЕ\n",
    "# Загружаем данные\n",
    "import os\n",
    "import io\n",
    "import boto3\n",
    "import pandas as pd\n",
    "from dotenv import load_dotenv\n",
    "from catboost import CatBoostClassifier, Pool\n",
    "import tempfile\n",
    "\n",
    "load_dotenv()\n",
    "\n",
    "S3_ENDPOINT_URL = \"https://storage.yandexcloud.net\"\n",
    "AWS_ACCESS_KEY_ID = os.getenv(\"AWS_ACCESS_KEY_ID\")\n",
    "AWS_SECRET_ACCESS_KEY = os.getenv(\"AWS_SECRET_ACCESS_KEY\")\n",
    "S3_BUCKET_NAME = os.getenv(\"S3_BUCKET_NAME\")\n",
    "\n",
    "s3_client = boto3.client(\n",
    "    \"s3\",\n",
    "    endpoint_url=S3_ENDPOINT_URL,\n",
    "    aws_access_key_id=AWS_ACCESS_KEY_ID,\n",
    "    aws_secret_access_key=AWS_SECRET_ACCESS_KEY,\n",
    ")\n",
    "\n",
    "# Функция для загрузки данных из S3\n",
    "def load_parquet_from_s3(s3_client, bucket_name, s3_key):\n",
    "    buffer = io.BytesIO()\n",
    "    s3_client.download_fileobj(Bucket=bucket_name, Key=s3_key, Fileobj=buffer)\n",
    "    buffer.seek(0)\n",
    "    return pd.read_parquet(buffer)\n",
    "\n",
    "# Функция для загрузки модели из S3\n",
    "def load_cbm_from_s3(s3_client, bucket_name, s3_key):\n",
    "    buffer = io.BytesIO()\n",
    "    s3_client.download_fileobj(Bucket=bucket_name, Key=s3_key, Fileobj=buffer)\n",
    "    buffer.seek(0)\n",
    "    with tempfile.NamedTemporaryFile(delete=False, suffix=\".cbm\") as temp_file:\n",
    "            temp_file.write(buffer.read())  # Сохраняем содержимое в временный файл\n",
    "            temp_file_path = temp_file.name  # Получаем путь к файлу\n",
    "    # Загружаем модель из временного файла\n",
    "    cb_model = CatBoostClassifier()\n",
    "    cb_model.load_model(temp_file_path)\n",
    "    return cb_model\n",
    "\n",
    "cb_model = load_cbm_from_s3(s3_client, S3_BUCKET_NAME, \"recsys/recommendations/cb_model.cbm\")\n",
    "print('Модель загужена!')\n",
    "\n",
    "items = load_parquet_from_s3(s3_client, S3_BUCKET_NAME, \"recsys/data/items.parquet\")\n",
    "print(items.shape)\n",
    "\n",
    "events = load_parquet_from_s3(s3_client, S3_BUCKET_NAME, \"recsys/data/events.parquet\")\n",
    "print(events.shape)\n",
    "\n",
    "personal_2 = load_parquet_from_s3(s3_client, S3_BUCKET_NAME, \"recsys/recommendations/personal_als_2.parquet\")\n",
    "print(personal_2.shape)\n",
    "print(personal_2.head(2))\n",
    "\n",
    "similar_2 = load_parquet_from_s3(s3_client, S3_BUCKET_NAME, \"recsys/recommendations/similar_2.parquet\")\n",
    "print(similar_2.shape)\n",
    "print(similar_2.head(2))\n"
   ]
  },
  {
   "cell_type": "code",
   "execution_count": 11,
   "id": "6f90a403",
   "metadata": {},
   "outputs": [],
   "source": [
    "train_test_global_time_split_date = pd.to_datetime(\"2022-12-23\")\n",
    "\n",
    "train_test_global_time_split_idx = events[\"started_at\"] < train_test_global_time_split_date\n",
    "events_train = events[train_test_global_time_split_idx]\n",
    "events_test_2 = events[~train_test_global_time_split_idx]"
   ]
  },
  {
   "cell_type": "code",
   "execution_count": 12,
   "id": "8eab7cf3",
   "metadata": {},
   "outputs": [
    {
     "name": "stdout",
     "output_type": "stream",
     "text": [
      "(10000, 2)\n",
      "   user_id                                  recommended_items\n",
      "0        4  [1587, 2598, 2603, 2606, 2608, 3224, 15714, 30...\n",
      "1       13  [390434, 390435, 390436, 390437, 390438, 39043...\n",
      "(48703286, 4)\n",
      "22317793\n"
     ]
    }
   ],
   "source": [
    "# Получим candidates_to_rank\n",
    "# Приведем контентные рекомендации в другой вид:\n",
    "transformed_data = []\n",
    "\n",
    "for _, row in similar_2.iterrows():\n",
    "    user_id = row['user_id']\n",
    "    recommended_items = row['recommended_items']\n",
    "    for rank, item_id in enumerate(recommended_items, start=1):\n",
    "        transformed_data.append({\n",
    "            'user_id': user_id,\n",
    "            'item_id': item_id,\n",
    "            'score': 1 / rank  # обратный ранг\n",
    "        })\n",
    "\n",
    "# Создание датафрейма в нужном формате\n",
    "content_recommendations_2_tr = pd.DataFrame(transformed_data)\n",
    "print(similar_2.shape)\n",
    "print(similar_2.head(2))\n",
    "\n",
    "\n",
    "# Объединим кандидатов от обоих базовых генераторов\n",
    "candidates_to_rank = pd.merge(\n",
    "    personal_2[[\"user_id\", \"item_id\", \"score\"]].rename(columns={\"score\": \"als_score\"}),\n",
    "    content_recommendations_2_tr[[\"user_id\", \"item_id\", \"score\"]].rename(columns={\"score\": \"cnt_score\"}),\n",
    "    on=['user_id', 'item_id'],\n",
    "    how=\"outer\")\n",
    "print(candidates_to_rank.shape)\n",
    "# оставляем только тех пользователей, что есть в тестовой выборке, для экономии ресурсов\n",
    "candidates_to_rank = candidates_to_rank[candidates_to_rank[\"user_id\"].isin(events_test_2[\"user_id\"].drop_duplicates())]\n",
    "print(len(candidates_to_rank))"
   ]
  },
  {
   "cell_type": "code",
   "execution_count": 13,
   "id": "521bfc08",
   "metadata": {},
   "outputs": [
    {
     "name": "stdout",
     "output_type": "stream",
     "text": [
      "   user_id   item_id  als_score  cnt_score  listening_months  tracks_listened  \\\n",
      "0        4  18820599   0.198029        NaN          8.772074              247   \n",
      "1        4    694683   0.189050        NaN          8.772074              247   \n",
      "2        4    647040   0.183900        NaN          8.772074              247   \n",
      "3        4       986   0.180415        NaN          8.772074              247   \n",
      "4        4  40493419   0.172102        NaN          8.772074              247   \n",
      "\n",
      "   tracks_per_month  \n",
      "0         28.157537  \n",
      "1         28.157537  \n",
      "2         28.157537  \n",
      "3         28.157537  \n",
      "4         28.157537  \n"
     ]
    }
   ],
   "source": [
    "# 5.7 Добавим признаки пользователей к кандидатам\n",
    "def get_user_features(events):\n",
    "    \"\"\" Считает пользовательские признаки с оптимизацией памяти \"\"\"\n",
    "    # Убедимся, что started_at имеет тип datetime\n",
    "    if events[\"started_at\"].dtype != \"datetime64[ns]\":\n",
    "        events[\"started_at\"] = pd.to_datetime(events[\"started_at\"])\n",
    "\n",
    "    # Вычисляем минимальные и максимальные даты на уровне пользователей\n",
    "    listening_period = events.groupby(\"user_id\")[\"started_at\"].agg([\"min\", \"max\"])\n",
    "\n",
    "    # Вычисляем количество месяцев прослушивания\n",
    "    listening_period[\"listening_months\"] = (\n",
    "        (listening_period[\"max\"] - listening_period[\"min\"]).dt.days / (365.25 / 12)\n",
    "    ).clip(lower=1)  # Минимум 1 месяц, чтобы избежать деления на 0\n",
    "\n",
    "    # Считаем количество прослушанных треков\n",
    "    tracks_listened = events.groupby(\"user_id\")[\"item_id\"].count()\n",
    "\n",
    "    # Создаем итоговый DataFrame\n",
    "    user_features = listening_period[[\"listening_months\"]].copy()\n",
    "    user_features[\"tracks_listened\"] = tracks_listened\n",
    "\n",
    "    # Рассчитываем треки на месяц\n",
    "    user_features[\"tracks_per_month\"] = (\n",
    "        user_features[\"tracks_listened\"] / user_features[\"listening_months\"]\n",
    "    )\n",
    "\n",
    "    return user_features\n",
    "\n",
    "# Применение функции\n",
    "user_features_for_train = get_user_features(events_train)\n",
    "candidates_to_rank = candidates_to_rank.merge(\n",
    "    user_features_for_train, on=\"user_id\", how=\"left\"\n",
    ")\n",
    "print(candidates_to_rank.head(5))"
   ]
  },
  {
   "cell_type": "code",
   "execution_count": 14,
   "id": "2ff0e047",
   "metadata": {},
   "outputs": [
    {
     "name": "stdout",
     "output_type": "stream",
     "text": [
      "Файл успешно сохранен на S3 по пути: recsys/recommendations/recommendations.parquet\n"
     ]
    }
   ],
   "source": [
    "# Получим топ-100 самых релевантных рекомендация для каждого пользователя, используя обученную модель\n",
    "from catboost import CatBoostClassifier, Pool\n",
    "\n",
    "# задаём имена колонок признаков и таргета\n",
    "features = ['als_score', 'cnt_score', \n",
    "    'listening_months', 'tracks_listened', 'tracks_per_month']\n",
    "target = 'target'\n",
    "\n",
    "inference_data = Pool(data=candidates_to_rank[features])\n",
    "predictions = cb_model.predict_proba(inference_data)\n",
    "\n",
    "candidates_to_rank[\"cb_score\"] = predictions[:, 1]\n",
    "\n",
    "# для каждого пользователя проставим rank, начиная с 1 — это максимальный cb_score\n",
    "candidates_to_rank = candidates_to_rank.sort_values([\"user_id\", \"cb_score\"], ascending=[True, False])\n",
    "candidates_to_rank[\"rank\"] = candidates_to_rank.groupby(\"user_id\").cumcount() + 1\n",
    "\n",
    "max_recommendations_per_user = 100\n",
    "final_recommendations = candidates_to_rank.query(\"rank <= @max_recommendations_per_user\")\n",
    "\n",
    "# Сохраняем\n",
    "buffer = io.BytesIO()\n",
    "final_recommendations.to_parquet(buffer, index=False)\n",
    "buffer.seek(0)\n",
    "\n",
    "# Путь к файлу на S3\n",
    "s3_key = \"recsys/recommendations/recommendations.parquet\"\n",
    "bucket_name = S3_BUCKET_NAME\n",
    "\n",
    "# Загружаем файл на S3\n",
    "s3_client.put_object(\n",
    "    Bucket=bucket_name,\n",
    "    Key=s3_key,\n",
    "    Body=buffer\n",
    ")\n",
    "\n",
    "print(f\"Файл успешно сохранен на S3 по пути: {s3_key}\")"
   ]
  },
  {
   "cell_type": "markdown",
   "id": "b3c84071-45b5-4a15-a683-e0ab034a3128",
   "metadata": {},
   "source": [
    "# Оценка качества"
   ]
  },
  {
   "cell_type": "markdown",
   "id": "1b107fe4-554e-42b1-87d9-c435a52bb77a",
   "metadata": {},
   "source": [
    "Проверим оценку качества трёх типов рекомендаций: \n",
    "\n",
    "- топ популярных,\n",
    "- персональных, полученных при помощи ALS,\n",
    "- итоговых\n",
    "  \n",
    "по четырем метрикам: recall, precision, coverage, novelty."
   ]
  },
  {
   "cell_type": "code",
   "execution_count": 4,
   "id": "9ef0b3e1",
   "metadata": {},
   "outputs": [
    {
     "name": "stdout",
     "output_type": "stream",
     "text": [
      "(47703300, 3)\n",
      "   user_id   item_id     score\n",
      "0        4  18820599  0.201269\n",
      "1        4    694683  0.194737\n",
      "(100, 2)\n",
      "   item_id  users\n",
      "0    53404  83493\n",
      "1   178529  75616\n",
      "(21858000, 9)\n",
      "   user_id   item_id  als_score  cnt_score  listening_months  tracks_listened  \\\n",
      "0        4  25062866   0.148688        NaN          8.772074              247   \n",
      "1        4   1710810   0.146861        NaN          8.772074              247   \n",
      "\n",
      "   tracks_per_month  cb_score  rank  \n",
      "0         28.157537  0.299976     1  \n",
      "1         28.157537  0.292913     2  \n",
      "(980970, 4)\n",
      "(188885672, 5)\n",
      "(178811394, 5)\n",
      "(10074278, 5)\n",
      "(5619167, 5)\n",
      "(4455111, 5)\n"
     ]
    }
   ],
   "source": [
    "# ПРОМЕЖУТОЧНЫЙ ШАГ. ГРУЗИМ ДАННЫЕ\n",
    "# Загружаем данные\n",
    "import os\n",
    "import io\n",
    "import boto3\n",
    "import pandas as pd\n",
    "import numpy as np\n",
    "from dotenv import load_dotenv\n",
    "\n",
    "load_dotenv()\n",
    "\n",
    "S3_ENDPOINT_URL = \"https://storage.yandexcloud.net\"\n",
    "AWS_ACCESS_KEY_ID = os.getenv(\"AWS_ACCESS_KEY_ID\")\n",
    "AWS_SECRET_ACCESS_KEY = os.getenv(\"AWS_SECRET_ACCESS_KEY\")\n",
    "S3_BUCKET_NAME = os.getenv(\"S3_BUCKET_NAME\")\n",
    "\n",
    "s3_client = boto3.client(\n",
    "    \"s3\",\n",
    "    endpoint_url=S3_ENDPOINT_URL,\n",
    "    aws_access_key_id=AWS_ACCESS_KEY_ID,\n",
    "    aws_secret_access_key=AWS_SECRET_ACCESS_KEY,\n",
    ")\n",
    "\n",
    "# Функция для загрузки данных из S3\n",
    "def load_parquet_from_s3(s3_client, bucket_name, s3_key):\n",
    "    buffer = io.BytesIO()\n",
    "    s3_client.download_fileobj(Bucket=bucket_name, Key=s3_key, Fileobj=buffer)\n",
    "    buffer.seek(0)\n",
    "    return pd.read_parquet(buffer)\n",
    "\n",
    "personal = load_parquet_from_s3(s3_client, S3_BUCKET_NAME, \"recsys/recommendations/personal_als.parquet\")\n",
    "print(personal.shape)\n",
    "print(personal.head(2))\n",
    "\n",
    "popular = load_parquet_from_s3(s3_client, S3_BUCKET_NAME, \"recsys/recommendations/top_popular.parquet\")\n",
    "print(popular.shape)\n",
    "print(popular.head(2))\n",
    "\n",
    "final = load_parquet_from_s3(s3_client, S3_BUCKET_NAME, \"recsys/recommendations/recommendations.parquet\")\n",
    "print(final.shape)\n",
    "print(final.head(2))\n",
    "\n",
    "items = load_parquet_from_s3(s3_client, S3_BUCKET_NAME, \"recsys/data/items.parquet\")\n",
    "print(items.shape)\n",
    "\n",
    "events = load_parquet_from_s3(s3_client, S3_BUCKET_NAME, \"recsys/data/events.parquet\")\n",
    "print(events.shape)\n",
    "\n",
    "# Делим данные на train и test\n",
    "train_test_global_time_split_idx = events[\"started_at\"] < pd.to_datetime(\"2022-12-16\")\n",
    "events_train = events[train_test_global_time_split_idx]\n",
    "print(events_train.shape)\n",
    "events_test = events[~train_test_global_time_split_idx]\n",
    "print(events_test.shape)\n",
    "\n",
    "# Делим данные на labeles и test_2\n",
    "split_date_for_labels = pd.to_datetime(\"2022-12-23\")\n",
    "split_date_for_labels_idx = events_test[\"started_at\"] < split_date_for_labels\n",
    "events_labels = events_test[split_date_for_labels_idx].copy()\n",
    "events_test_2 = events_test[~split_date_for_labels_idx].copy()\n",
    "print(events_labels.shape)\n",
    "print(events_test_2.shape)\n",
    "\n",
    "del events"
   ]
  },
  {
   "cell_type": "code",
   "execution_count": 2,
   "id": "94d6f388-aecb-443e-8647-14014e932d4d",
   "metadata": {},
   "outputs": [],
   "source": [
    "# Инициализирум необходимые функции\n",
    "def process_events_recs_for_binary_metrics(events_train, events_test, recs, top_k=None):\n",
    "\n",
    "    \"\"\"\n",
    "    размечает пары <user_id, item_id> для общего множества пользователей признаками\n",
    "    - gt (ground truth)\n",
    "    - pr (prediction)\n",
    "    top_k: расчёт ведётся только для top k-рекомендаций\n",
    "    \"\"\"\n",
    "\n",
    "    events_test[\"gt\"] = True\n",
    "    common_users = set(events_test[\"user_id\"]) & set(recs[\"user_id\"])\n",
    "\n",
    "    print(f\"Common users: {len(common_users)}\")\n",
    "    \n",
    "    events_for_common_users = events_test[events_test[\"user_id\"].isin(common_users)].copy()\n",
    "    recs_for_common_users = recs[recs[\"user_id\"].isin(common_users)].copy()\n",
    "\n",
    "    recs_for_common_users = recs_for_common_users.sort_values([\"user_id\", \"score\"], ascending=[True, False])\n",
    "\n",
    "    # оставляет только те item_id, которые были в events_train, \n",
    "    # т. к. модель не имела никакой возможности давать рекомендации для новых айтемов\n",
    "    events_for_common_users = events_for_common_users[events_for_common_users[\"item_id\"].isin(events_train[\"item_id\"].unique())]\n",
    "\n",
    "    if top_k is not None:\n",
    "        recs_for_common_users = recs_for_common_users.groupby(\"user_id\").head(top_k)\n",
    "    \n",
    "    events_recs_common = events_for_common_users[[\"user_id\", \"item_id\", \"gt\"]].merge(\n",
    "        recs_for_common_users[[\"user_id\", \"item_id\", \"score\"]], \n",
    "        on=[\"user_id\", \"item_id\"], how=\"outer\")    \n",
    "\n",
    "    events_recs_common[\"gt\"] = events_recs_common[\"gt\"].fillna(False)\n",
    "    events_recs_common[\"pr\"] = ~events_recs_common[\"score\"].isnull()\n",
    "    \n",
    "    events_recs_common[\"tp\"] = events_recs_common[\"gt\"] & events_recs_common[\"pr\"]\n",
    "    events_recs_common[\"fp\"] = ~events_recs_common[\"gt\"] & events_recs_common[\"pr\"]\n",
    "    events_recs_common[\"fn\"] = events_recs_common[\"gt\"] & ~events_recs_common[\"pr\"]\n",
    "\n",
    "    return events_recs_common\n",
    "\n",
    "def compute_cls_metrics(events_recs_for_binary_metric):\n",
    "    \n",
    "    groupper = events_recs_for_binary_metric.groupby(\"user_id\")\n",
    "\n",
    "    # precision = tp / (tp + fp)\n",
    "    precision = groupper[\"tp\"].sum() / (groupper[\"tp\"].sum() + groupper[\"fp\"].sum())\n",
    "    precision = np.nan_to_num(precision, nan=0).mean()\n",
    "    \n",
    "    # recall = tp / (tp + fn)\n",
    "    recall = groupper[\"tp\"].sum() / (groupper[\"tp\"].sum() + groupper[\"fn\"].sum())\n",
    "    recall = np.nan_to_num(recall, nan=0).mean()\n",
    "\n",
    "    return precision, recall"
   ]
  },
  {
   "cell_type": "code",
   "execution_count": 3,
   "id": "f788dcf4",
   "metadata": {},
   "outputs": [
    {
     "name": "stderr",
     "output_type": "stream",
     "text": [
      "/tmp/ipykernel_19849/4081151336.py:11: SettingWithCopyWarning: \n",
      "A value is trying to be set on a copy of a slice from a DataFrame.\n",
      "Try using .loc[row_indexer,col_indexer] = value instead\n",
      "\n",
      "See the caveats in the documentation: https://pandas.pydata.org/pandas-docs/stable/user_guide/indexing.html#returning-a-view-versus-a-copy\n",
      "  events_test[\"gt\"] = True\n"
     ]
    },
    {
     "name": "stdout",
     "output_type": "stream",
     "text": [
      "Common users: 280453\n",
      "   user_id   item_id    gt  score     pr     tp     fp    fn\n",
      "0        4  83375862  True    NaN  False  False  False  True\n",
      "1        4  83764704  True    NaN  False  False  False  True\n",
      "2        4  83858540  True    NaN  False  False  False  True\n",
      "3        4  84099295  True    NaN  False  False  False  True\n",
      "4        4  84487963  True    NaN  False  False  False  True\n",
      "5        4  86153070  True    NaN  False  False  False  True\n",
      "6        4  86836928  True    NaN  False  False  False  True\n",
      "7        4  87446393  True    NaN  False  False  False  True\n",
      "8        4  91718971  True    NaN  False  False  False  True\n",
      "9        4  92133060  True    NaN  False  False  False  True\n",
      "(0.006218510766509896, 0.0021028778140346985)\n"
     ]
    }
   ],
   "source": [
    "# Посчитаем метрики для персональных рекомендаций\n",
    "events_recs_for_binary_metrics = process_events_recs_for_binary_metrics(\n",
    "    events_train,\n",
    "    events_test, \n",
    "    personal, \n",
    "    top_k=10)\n",
    "\n",
    "print(events_recs_for_binary_metrics.head(10))\n",
    "\n",
    "print(compute_cls_metrics(events_recs_for_binary_metrics))"
   ]
  },
  {
   "cell_type": "code",
   "execution_count": null,
   "id": "26df411f-14c1-4848-8797-f37afe449cc6",
   "metadata": {},
   "outputs": [
    {
     "name": "stdout",
     "output_type": "stream",
     "text": [
      "0.01\n"
     ]
    }
   ],
   "source": [
    "# 1. Расчёт покрытия по объектам\n",
    "n = items.shape[0]\n",
    "cov_items = final['item_id'].nunique()/n\n",
    "print(f\"{cov_items:.2f}\")"
   ]
  },
  {
   "cell_type": "code",
   "execution_count": 5,
   "id": "2fd3f4d2",
   "metadata": {},
   "outputs": [],
   "source": [
    "# 2. расчет новизны\n",
    "# Не удалолсь рассчитать метрику из-за того, что постоянно крашился Кернель\n",
    "# разметим каждую рекомендацию признаком listened\n",
    "events_train[\"listened\"] = True\n",
    "# Оптимизируем типы данных\n",
    "final[\"user_id\"] = final[\"user_id\"].astype(\"int32\")\n",
    "final[\"item_id\"] = final[\"item_id\"].astype(\"int32\")\n",
    "events_train[\"user_id\"] = events_train[\"user_id\"].astype(\"int32\")\n",
    "events_train[\"item_id\"] = events_train[\"item_id\"].astype(\"int32\")\n",
    "final = final[[\"user_id\", \"item_id\", \"rank\"]]\n",
    "\n",
    "# Минимизируем размер данных при merge\n",
    "final = final.merge(\n",
    "    events_train[[\"user_id\", \"item_id\", \"listened\"]], \n",
    "    on=[\"user_id\", \"item_id\"], \n",
    "    how=\"left\"\n",
    ")"
   ]
  },
  {
   "cell_type": "code",
   "execution_count": 6,
   "id": "4e01fac9",
   "metadata": {},
   "outputs": [
    {
     "name": "stdout",
     "output_type": "stream",
     "text": [
      "0.68122426571507\n"
     ]
    }
   ],
   "source": [
    "\n",
    "# Заполняем пропуски без копирования\n",
    "final[\"listened\"] = final[\"listened\"].fillna(False)\n",
    "\n",
    "# Сортируем пользователей и добавляем ранги\n",
    "final = final.sort_values(by=[\"user_id\", \"rank\"], ascending=[True, True])\n",
    "\n",
    "# Оставляем только топ-5 рекомендаций на этапе группировки\n",
    "top_5 = (\n",
    "    final.groupby(\"user_id\", sort=False)\n",
    "    .head(5)\n",
    "    .reset_index(drop=True)\n",
    ")\n",
    "\n",
    "# Рассчитываем новизну\n",
    "novelty_5 = 1 - top_5.groupby(\"user_id\", sort=False)[\"listened\"].mean()\n",
    "\n",
    "# Средний novelty\n",
    "mean_novelty_5 = novelty_5.mean()\n",
    "\n",
    "print(mean_novelty_5)"
   ]
  },
  {
   "cell_type": "code",
   "execution_count": 5,
   "id": "a7bfc322",
   "metadata": {},
   "outputs": [
    {
     "name": "stdout",
     "output_type": "stream",
     "text": [
      "(184430561, 5)\n",
      "(94537667, 5)\n",
      "Common users: 218580\n",
      "precision: 0.006, recall: 0.002\n"
     ]
    }
   ],
   "source": [
    "# Посчитаем метрики recall и precision для полученных рекомендаций\n",
    "# для экономии ресурсов оставим события только тех пользователей, \n",
    "# для которых следует оценить рекомендации\n",
    "import numpy as np\n",
    "\n",
    "events_inference = pd.concat([events_train, events_labels])\n",
    "print(events_inference.shape)\n",
    "events_inference = events_inference[events_inference[\"user_id\"].isin(events_test_2[\"user_id\"].drop_duplicates())]\n",
    "print(events_inference.shape)\n",
    "\n",
    "cb_events_recs_for_binary_metrics_5 = process_events_recs_for_binary_metrics(\n",
    "    events_inference,\n",
    "    events_test_2,\n",
    "    final.rename(columns={\"cb_score\": \"score\"}), \n",
    "    top_k=5)\n",
    "\n",
    "cb_precision_5, cb_recall_5 = compute_cls_metrics(cb_events_recs_for_binary_metrics_5)\n",
    "\n",
    "print(f\"precision: {cb_precision_5:.3f}, recall: {cb_recall_5:.3f}\")"
   ]
  },
  {
   "cell_type": "markdown",
   "id": "f1c8d38c-32b0-46a4-96f0-cd01dac708bc",
   "metadata": {},
   "source": [
    "# === Выводы, метрики ==="
   ]
  },
  {
   "cell_type": "markdown",
   "id": "f7d7d5d8-7d1e-4fdf-a6cd-83e5ce92c684",
   "metadata": {},
   "source": [
    "Основные выводы при работе над расчётом рекомендаций, рассчитанные метрики."
   ]
  },
  {
   "cell_type": "markdown",
   "id": "12f100ba",
   "metadata": {},
   "source": [
    "Выводы:\n",
    "В работе был применен принцип ассамблирования, то есть концепция объединения результатов работы нескольких алгоритмов. В итоге получается ансамбль алгоритмов.\n",
    "Были сформированы кандидаты, включающие как персональные рекомендации (ALS), так и контентные.\n",
    "Из-за значительного датасета взаимодейстивй (более 222 млн.) и ограниченности ресурсов ВМ объем контентых рекомендаций был ограничен 10000 пользователями.\n",
    "Полученные метрики:\n",
    "Покрытие (Coverage) - Доля уникальных объектов в рекомендациях (от всех объектов)- 0,01. Немного, но с учетом значитрельного количества треков допустимо.\n",
    "Новизна (Novelty) Доля объектов, ранее не виденных пользователем, среди топ-k (5) рекомендованных- 0,68. Хорошая.\n",
    "Точность (Precision) - Доля правильно предсказанных положительных объектов (True Positives, TP) среди всех объектов, которые модель предсказала как положительные (True Positives + False Positives) - 0.006. Получилась невысокая, но сопоставимая с проектом в теории. Для топ-5 обычно не очень высокая.\n",
    "Полнота (Recall)- Доля правильно предсказанных положительных объектов (True Positives, TP) среди всех реально существующих положительных объектов (True Positives + False Negatives) - 0.002. Получилась низкая."
   ]
  }
 ],
 "metadata": {
  "kernelspec": {
   "display_name": "env_recsys_start",
   "language": "python",
   "name": "python3"
  },
  "language_info": {
   "codemirror_mode": {
    "name": "ipython",
    "version": 3
   },
   "file_extension": ".py",
   "mimetype": "text/x-python",
   "name": "python",
   "nbconvert_exporter": "python",
   "pygments_lexer": "ipython3",
   "version": "3.10.12"
  }
 },
 "nbformat": 4,
 "nbformat_minor": 5
}
